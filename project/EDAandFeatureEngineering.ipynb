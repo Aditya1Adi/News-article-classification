{
  "cells": [
    {
      "cell_type": "code",
      "execution_count": null,
      "metadata": {
        "colab": {
          "background_save": true
        },
        "id": "M1QZakZT7VTv"
      },
      "outputs": [],
      "source": [
        "import os\n",
        "import pandas as pd\n",
        "\n",
        "# Path definition of the news archives\n",
        "path ='/content/drive/MyDrive/bbc-fulltext/bbc'\n",
        "\n",
        "# List with the 5 categories\n",
        "list_categories = os.listdir(path)\n",
        "\n",
        "# Function to read files from each category and create dataframe\n",
        "def create_dataframe(category_path, category):\n",
        "    files = os.listdir(category_path)\n",
        "    data = []\n",
        "    for file in files:\n",
        "        with open(os.path.join(category_path, file), 'r', encoding='utf-8') as f:\n",
        "            content = f.read()\n",
        "            data.append([file, content, category])\n",
        "    return pd.DataFrame(data, columns=['File_Name', 'Content', 'Category'])\n",
        "\n",
        "# Initialize an empty dataframe\n",
        "df_final = pd.DataFrame(columns=['File_Name', 'Content', 'Category'])\n",
        "\n",
        "# Iterate through categories, read files, and append to dataframe\n",
        "for category in list_categories:\n",
        "    category_path = os.path.join(path, category)\n",
        "    df = create_dataframe(category_path, category)\n",
        "    df_final = pd.concat([df_final, df], ignore_index=True)\n",
        "\n",
        "# Add a new column with combined filename and category\n",
        "df_final['Complete_Filename'] = df_final['File_Name'] + '-' + df_final['Category']\n",
        "\n",
        "# Save dataset to CSV\n",
        "df_final.to_csv('News_dataset.csv', encoding='utf-8', index=False)"
      ]
    },
    {
      "cell_type": "code",
      "execution_count": null,
      "metadata": {
        "colab": {
          "background_save": true
        },
        "id": "8FpqSIZbKPJD"
      },
      "outputs": [],
      "source": [
        "df_final"
      ]
    },
    {
      "cell_type": "code",
      "execution_count": null,
      "metadata": {
        "id": "y4ZqlEZtLH3i"
      },
      "outputs": [],
      "source": [
        "import pandas as pd\n",
        "import matplotlib.pyplot as plt\n",
        "import pickle\n",
        "import seaborn as sns\n",
        "sns.set_style(\"whitegrid\")\n",
        "\n",
        "# Code for hiding seaborn warnings\n",
        "import warnings\n",
        "warnings.filterwarnings(\"ignore\")"
      ]
    },
    {
      "cell_type": "code",
      "execution_count": null,
      "metadata": {
        "colab": {
          "base_uri": "https://localhost:8080/",
          "height": 437
        },
        "id": "CCCL0JylLhbK",
        "outputId": "3e427844-91a5-4510-9a42-dfc67b32f344"
      },
      "outputs": [
        {
          "data": {
            "text/html": [
              "\n",
              "<div id=\"altair-viz-dd8a8db3e29d443387e64680f2eebf1f\"></div>\n",
              "<script type=\"text/javascript\">\n",
              "  var VEGA_DEBUG = (typeof VEGA_DEBUG == \"undefined\") ? {} : VEGA_DEBUG;\n",
              "  (function(spec, embedOpt){\n",
              "    let outputDiv = document.currentScript.previousElementSibling;\n",
              "    if (outputDiv.id !== \"altair-viz-dd8a8db3e29d443387e64680f2eebf1f\") {\n",
              "      outputDiv = document.getElementById(\"altair-viz-dd8a8db3e29d443387e64680f2eebf1f\");\n",
              "    }\n",
              "    const paths = {\n",
              "      \"vega\": \"https://cdn.jsdelivr.net/npm//vega@5?noext\",\n",
              "      \"vega-lib\": \"https://cdn.jsdelivr.net/npm//vega-lib?noext\",\n",
              "      \"vega-lite\": \"https://cdn.jsdelivr.net/npm//vega-lite@4.17.0?noext\",\n",
              "      \"vega-embed\": \"https://cdn.jsdelivr.net/npm//vega-embed@6?noext\",\n",
              "    };\n",
              "\n",
              "    function maybeLoadScript(lib, version) {\n",
              "      var key = `${lib.replace(\"-\", \"\")}_version`;\n",
              "      return (VEGA_DEBUG[key] == version) ?\n",
              "        Promise.resolve(paths[lib]) :\n",
              "        new Promise(function(resolve, reject) {\n",
              "          var s = document.createElement('script');\n",
              "          document.getElementsByTagName(\"head\")[0].appendChild(s);\n",
              "          s.async = true;\n",
              "          s.onload = () => {\n",
              "            VEGA_DEBUG[key] = version;\n",
              "            return resolve(paths[lib]);\n",
              "          };\n",
              "          s.onerror = () => reject(`Error loading script: ${paths[lib]}`);\n",
              "          s.src = paths[lib];\n",
              "        });\n",
              "    }\n",
              "\n",
              "    function showError(err) {\n",
              "      outputDiv.innerHTML = `<div class=\"error\" style=\"color:red;\">${err}</div>`;\n",
              "      throw err;\n",
              "    }\n",
              "\n",
              "    function displayChart(vegaEmbed) {\n",
              "      vegaEmbed(outputDiv, spec, embedOpt)\n",
              "        .catch(err => showError(`Javascript Error: ${err.message}<br>This usually means there's a typo in your chart specification. See the javascript console for the full traceback.`));\n",
              "    }\n",
              "\n",
              "    if(typeof define === \"function\" && define.amd) {\n",
              "      requirejs.config({paths});\n",
              "      require([\"vega-embed\"], displayChart, err => showError(`Error loading script: ${err.message}`));\n",
              "    } else {\n",
              "      maybeLoadScript(\"vega\", \"5\")\n",
              "        .then(() => maybeLoadScript(\"vega-lite\", \"4.17.0\"))\n",
              "        .then(() => maybeLoadScript(\"vega-embed\", \"6\"))\n",
              "        .catch(showError)\n",
              "        .then(() => displayChart(vegaEmbed));\n",
              "    }\n",
              "  })({\"config\": {\"view\": {\"continuousWidth\": 400, \"continuousHeight\": 300}}, \"layer\": [{\"mark\": {\"type\": \"bar\", \"size\": 50}, \"encoding\": {\"color\": {\"field\": \"Category\", \"type\": \"nominal\"}, \"tooltip\": [{\"field\": \"Count\", \"title\": \"Number of articles\", \"type\": \"quantitative\"}, {\"field\": \"Category\", \"type\": \"nominal\"}], \"x\": {\"field\": \"Category\", \"type\": \"nominal\"}, \"y\": {\"axis\": {\"title\": \"Number of articles\"}, \"field\": \"Count\", \"type\": \"quantitative\"}}, \"selection\": {\"selector009\": {\"type\": \"interval\", \"bind\": \"scales\", \"encodings\": [\"x\", \"y\"]}}}, {\"mark\": {\"type\": \"text\", \"align\": \"center\", \"baseline\": \"bottom\"}, \"encoding\": {\"color\": {\"field\": \"Category\", \"type\": \"nominal\"}, \"text\": {\"field\": \"Count\", \"type\": \"quantitative\"}, \"tooltip\": [{\"field\": \"Count\", \"title\": \"Number of articles\", \"type\": \"quantitative\"}, {\"field\": \"Category\", \"type\": \"nominal\"}], \"x\": {\"field\": \"Category\", \"type\": \"nominal\"}, \"y\": {\"axis\": {\"title\": \"Number of articles\"}, \"field\": \"Count\", \"type\": \"quantitative\"}}}], \"data\": {\"name\": \"data-d1c88981f27bcb75c7add6c382c0e4a2\"}, \"height\": 300, \"title\": \"Number of articles in each category\", \"width\": 700, \"$schema\": \"https://vega.github.io/schema/vega-lite/v4.17.0.json\", \"datasets\": {\"data-d1c88981f27bcb75c7add6c382c0e4a2\": [{\"Category\": \"sport\", \"Count\": 511}, {\"Category\": \"business\", \"Count\": 510}, {\"Category\": \"politics\", \"Count\": 417}, {\"Category\": \"tech\", \"Count\": 401}, {\"Category\": \"entertainment\", \"Count\": 386}]}}, {\"mode\": \"vega-lite\"});\n",
              "</script>"
            ],
            "text/plain": [
              "alt.LayerChart(...)"
            ]
          },
          "execution_count": 88,
          "metadata": {},
          "output_type": "execute_result"
        }
      ],
      "source": [
        "import altair as alt\n",
        "import pandas as pd\n",
        "\n",
        "# Enable Altair to use Colab renderer\n",
        "alt.renderers.enable('colab')\n",
        "\n",
        "# Count the number of articles in each category\n",
        "category_counts = df_final['Category'].value_counts().reset_index()\n",
        "category_counts.columns = ['Category', 'Count']\n",
        "\n",
        "# Create Altair chart\n",
        "bars = alt.Chart(category_counts).mark_bar(size=50).encode(\n",
        "    x=alt.X(\"Category\"),\n",
        "    y=alt.Y(\"Count:Q\", axis=alt.Axis(title='Number of articles')),\n",
        "    tooltip=[alt.Tooltip('Count:Q', title='Number of articles'), 'Category'],\n",
        "    color='Category'\n",
        ")\n",
        "\n",
        "text = bars.mark_text(\n",
        "    align='center',\n",
        "    baseline='bottom',\n",
        ").encode(\n",
        "    text='Count:Q'\n",
        ")\n",
        "\n",
        "chart = (bars + text).properties(\n",
        "    height=300,\n",
        "    width=700,\n",
        "    title = \"Number of articles in each category\",\n",
        ")\n",
        "\n",
        "chart.interactive()\n"
      ]
    },
    {
      "cell_type": "code",
      "execution_count": null,
      "metadata": {
        "id": "-UOlRpZmjnpm"
      },
      "outputs": [],
      "source": [
        "df_final['News_length'] = df_final['Content'].str.len()"
      ]
    },
    {
      "cell_type": "code",
      "execution_count": null,
      "metadata": {
        "colab": {
          "base_uri": "https://localhost:8080/",
          "height": 437
        },
        "id": "LfHlBJ2cLsfg",
        "outputId": "e6f4df10-5119-4473-a5ef-5619c6087358"
      },
      "outputs": [
        {
          "data": {
            "text/html": [
              "\n",
              "<div id=\"altair-viz-c7624c301a454c4681410187f2ea16e9\"></div>\n",
              "<script type=\"text/javascript\">\n",
              "  var VEGA_DEBUG = (typeof VEGA_DEBUG == \"undefined\") ? {} : VEGA_DEBUG;\n",
              "  (function(spec, embedOpt){\n",
              "    let outputDiv = document.currentScript.previousElementSibling;\n",
              "    if (outputDiv.id !== \"altair-viz-c7624c301a454c4681410187f2ea16e9\") {\n",
              "      outputDiv = document.getElementById(\"altair-viz-c7624c301a454c4681410187f2ea16e9\");\n",
              "    }\n",
              "    const paths = {\n",
              "      \"vega\": \"https://cdn.jsdelivr.net/npm//vega@5?noext\",\n",
              "      \"vega-lib\": \"https://cdn.jsdelivr.net/npm//vega-lib?noext\",\n",
              "      \"vega-lite\": \"https://cdn.jsdelivr.net/npm//vega-lite@4.17.0?noext\",\n",
              "      \"vega-embed\": \"https://cdn.jsdelivr.net/npm//vega-embed@6?noext\",\n",
              "    };\n",
              "\n",
              "    function maybeLoadScript(lib, version) {\n",
              "      var key = `${lib.replace(\"-\", \"\")}_version`;\n",
              "      return (VEGA_DEBUG[key] == version) ?\n",
              "        Promise.resolve(paths[lib]) :\n",
              "        new Promise(function(resolve, reject) {\n",
              "          var s = document.createElement('script');\n",
              "          document.getElementsByTagName(\"head\")[0].appendChild(s);\n",
              "          s.async = true;\n",
              "          s.onload = () => {\n",
              "            VEGA_DEBUG[key] = version;\n",
              "            return resolve(paths[lib]);\n",
              "          };\n",
              "          s.onerror = () => reject(`Error loading script: ${paths[lib]}`);\n",
              "          s.src = paths[lib];\n",
              "        });\n",
              "    }\n",
              "\n",
              "    function showError(err) {\n",
              "      outputDiv.innerHTML = `<div class=\"error\" style=\"color:red;\">${err}</div>`;\n",
              "      throw err;\n",
              "    }\n",
              "\n",
              "    function displayChart(vegaEmbed) {\n",
              "      vegaEmbed(outputDiv, spec, embedOpt)\n",
              "        .catch(err => showError(`Javascript Error: ${err.message}<br>This usually means there's a typo in your chart specification. See the javascript console for the full traceback.`));\n",
              "    }\n",
              "\n",
              "    if(typeof define === \"function\" && define.amd) {\n",
              "      requirejs.config({paths});\n",
              "      require([\"vega-embed\"], displayChart, err => showError(`Error loading script: ${err.message}`));\n",
              "    } else {\n",
              "      maybeLoadScript(\"vega\", \"5\")\n",
              "        .then(() => maybeLoadScript(\"vega-lite\", \"4.17.0\"))\n",
              "        .then(() => maybeLoadScript(\"vega-embed\", \"6\"))\n",
              "        .catch(showError)\n",
              "        .then(() => displayChart(vegaEmbed));\n",
              "    }\n",
              "  })({\"config\": {\"view\": {\"continuousWidth\": 400, \"continuousHeight\": 300}}, \"layer\": [{\"mark\": {\"type\": \"bar\", \"size\": 50}, \"encoding\": {\"color\": {\"field\": \"Category\", \"type\": \"nominal\"}, \"x\": {\"field\": \"Category\", \"type\": \"nominal\"}, \"y\": {\"axis\": {\"format\": \".0%\", \"title\": \"% of Articles\"}, \"field\": \"PercentOfTotal\", \"type\": \"quantitative\"}}, \"selection\": {\"selector010\": {\"type\": \"interval\", \"bind\": \"scales\", \"encodings\": [\"x\", \"y\"]}}, \"transform\": [{\"window\": [{\"op\": \"sum\", \"field\": \"id\", \"as\": \"TotalArticles\"}], \"frame\": [null, null]}, {\"calculate\": \"datum.id / datum.TotalArticles\", \"as\": \"PercentOfTotal\"}]}, {\"mark\": {\"type\": \"text\", \"align\": \"center\", \"baseline\": \"bottom\"}, \"encoding\": {\"color\": {\"field\": \"Category\", \"type\": \"nominal\"}, \"text\": {\"field\": \"PercentOfTotal\", \"format\": \".1%\", \"type\": \"quantitative\"}, \"x\": {\"field\": \"Category\", \"type\": \"nominal\"}, \"y\": {\"axis\": {\"format\": \".0%\", \"title\": \"% of Articles\"}, \"field\": \"PercentOfTotal\", \"type\": \"quantitative\"}}, \"transform\": [{\"window\": [{\"op\": \"sum\", \"field\": \"id\", \"as\": \"TotalArticles\"}], \"frame\": [null, null]}, {\"calculate\": \"datum.id / datum.TotalArticles\", \"as\": \"PercentOfTotal\"}]}], \"data\": {\"name\": \"data-9a2e07ae41b2eda4f5b2023b1a5c9d3a\"}, \"height\": 300, \"title\": \"% of articles in each category\", \"width\": 700, \"$schema\": \"https://vega.github.io/schema/vega-lite/v4.17.0.json\", \"datasets\": {\"data-9a2e07ae41b2eda4f5b2023b1a5c9d3a\": [{\"Category\": \"business\", \"id\": 510}, {\"Category\": \"entertainment\", \"id\": 386}, {\"Category\": \"politics\", \"id\": 417}, {\"Category\": \"sport\", \"id\": 511}, {\"Category\": \"tech\", \"id\": 401}]}}, {\"mode\": \"vega-lite\"});\n",
              "</script>"
            ],
            "text/plain": [
              "alt.LayerChart(...)"
            ]
          },
          "execution_count": 90,
          "metadata": {},
          "output_type": "execute_result"
        }
      ],
      "source": [
        "df_final['id'] = 1\n",
        "df2 = pd.DataFrame(df_final.groupby('Category').count()['id']).reset_index()\n",
        "\n",
        "bars = alt.Chart(df2).mark_bar(size=50).encode(\n",
        "    x=alt.X('Category'),\n",
        "    y=alt.Y('PercentOfTotal:Q', axis=alt.Axis(format='.0%', title='% of Articles')),\n",
        "    color='Category'\n",
        ").transform_window(\n",
        "    TotalArticles='sum(id)',\n",
        "    frame=[None, None]\n",
        ").transform_calculate(\n",
        "    PercentOfTotal=\"datum.id / datum.TotalArticles\"\n",
        ")\n",
        "\n",
        "text = bars.mark_text(\n",
        "    align='center',\n",
        "    baseline='bottom',\n",
        "    #dx=5  # Nudges text to right so it doesn't appear on top of the bar\n",
        ").encode(\n",
        "    text=alt.Text('PercentOfTotal:Q', format='.1%')\n",
        ")\n",
        "\n",
        "(bars + text).interactive().properties(\n",
        "    height=300,\n",
        "    width=700,\n",
        "    title = \"% of articles in each category\",\n",
        ")"
      ]
    },
    {
      "cell_type": "code",
      "execution_count": null,
      "metadata": {
        "colab": {
          "base_uri": "https://localhost:8080/",
          "height": 564
        },
        "id": "JboktnqeMw5O",
        "outputId": "09aa08d0-3aa5-43c8-f271-51a16f1bfce5"
      },
      "outputs": [
        {
          "data": {
            "image/png": "[encoded data removed]",
            "text/plain": [
              "<Figure size 1280x600 with 1 Axes>"
            ]
          },
          "metadata": {},
          "output_type": "display_data"
        }
      ],
      "source": [
        "plt.figure(figsize=(12.8,6))\n",
        "sns.distplot(df_final['News_length']).set_title('News length distribution');"
      ]
    },
    {
      "cell_type": "code",
      "execution_count": null,
      "metadata": {
        "colab": {
          "base_uri": "https://localhost:8080/"
        },
        "id": "TjXBirZvj42v",
        "outputId": "a6cdbeae-2b6e-48ba-b0fc-1099758557c5"
      },
      "outputs": [
        {
          "data": {
            "text/plain": [
              "count     2225.000000\n",
              "mean      2265.160449\n",
              "std       1364.094764\n",
              "min        503.000000\n",
              "25%       1448.000000\n",
              "50%       1967.000000\n",
              "75%       2804.000000\n",
              "max      25485.000000\n",
              "Name: News_length, dtype: float64"
            ]
          },
          "execution_count": 92,
          "metadata": {},
          "output_type": "execute_result"
        }
      ],
      "source": [
        "df_final['News_length'].describe()"
      ]
    },
    {
      "cell_type": "code",
      "execution_count": null,
      "metadata": {
        "id": "edDsP5FtkOCP"
      },
      "outputs": [],
      "source": [
        "quantile_95 = df_final['News_length'].quantile(0.95)\n",
        "df_95 = df_final[df_final['News_length'] < quantile_95]"
      ]
    },
    {
      "cell_type": "code",
      "execution_count": null,
      "metadata": {
        "colab": {
          "base_uri": "https://localhost:8080/",
          "height": 564
        },
        "id": "ONIaWAa8kU1T",
        "outputId": "d9209254-7757-48a4-8e43-9591ab922c1d"
      },
      "outputs": [
        {
          "data": {
            "image/png": "[encoded data removed]",
            "text/plain": [
              "<Figure size 1280x600 with 1 Axes>"
            ]
          },
          "metadata": {},
          "output_type": "display_data"
        }
      ],
      "source": [
        "plt.figure(figsize=(12.8,6))\n",
        "sns.distplot(df_95['News_length']).set_title('News length distribution');"
      ]
    },
    {
      "cell_type": "code",
      "execution_count": null,
      "metadata": {
        "colab": {
          "base_uri": "https://localhost:8080/",
          "height": 542
        },
        "id": "k2oXTydpkhNO",
        "outputId": "800b29b0-8853-420b-8651-5479e58bdb78"
      },
      "outputs": [
        {
          "data": {
            "image/png": "[encoded data removed]",
            "text/plain": [
              "<Figure size 1280x600 with 1 Axes>"
            ]
          },
          "metadata": {},
          "output_type": "display_data"
        }
      ],
      "source": [
        "plt.figure(figsize=(12.8,6))\n",
        "sns.boxplot(data=df_95, x='Category', y='News_length');"
      ]
    },
    {
      "cell_type": "code",
      "execution_count": null,
      "metadata": {
        "id": "qjAOMWdzkonS"
      },
      "outputs": [],
      "source": [
        "with open('News_dataset.pickle', 'wb') as output:\n",
        "    pickle.dump(df_final, output)"
      ]
    },
    {
      "cell_type": "code",
      "execution_count": null,
      "metadata": {
        "colab": {
          "base_uri": "https://localhost:8080/",
          "height": 17
        },
        "id": "oXZwCkhNk0XH",
        "outputId": "de21520b-63e5-4d22-aafe-40c32553d4db"
      },
      "outputs": [
        {
          "data": {
            "application/javascript": [
              "\n",
              "    async function download(id, filename, size) {\n",
              "      if (!google.colab.kernel.accessAllowed) {\n",
              "        return;\n",
              "      }\n",
              "      const div = document.createElement('div');\n",
              "      const label = document.createElement('label');\n",
              "      label.textContent = `Downloading \"${filename}\": `;\n",
              "      div.appendChild(label);\n",
              "      const progress = document.createElement('progress');\n",
              "      progress.max = size;\n",
              "      div.appendChild(progress);\n",
              "      document.body.appendChild(div);\n",
              "\n",
              "      const buffers = [];\n",
              "      let downloaded = 0;\n",
              "\n",
              "      const channel = await google.colab.kernel.comms.open(id);\n",
              "      // Send a message to notify the kernel that we're ready.\n",
              "      channel.send({})\n",
              "\n",
              "      for await (const message of channel.messages) {\n",
              "        // Send a message to notify the kernel that we're ready.\n",
              "        channel.send({})\n",
              "        if (message.buffers) {\n",
              "          for (const buffer of message.buffers) {\n",
              "            buffers.push(buffer);\n",
              "            downloaded += buffer.byteLength;\n",
              "            progress.value = downloaded;\n",
              "          }\n",
              "        }\n",
              "      }\n",
              "      const blob = new Blob(buffers, {type: 'application/binary'});\n",
              "      const a = document.createElement('a');\n",
              "      a.href = window.URL.createObjectURL(blob);\n",
              "      a.download = filename;\n",
              "      div.appendChild(a);\n",
              "      a.click();\n",
              "      div.remove();\n",
              "    }\n",
              "  "
            ],
            "text/plain": [
              "<IPython.core.display.Javascript object>"
            ]
          },
          "metadata": {},
          "output_type": "display_data"
        },
        {
          "data": {
            "application/javascript": [
              "download(\"download_00416c4f-d8d4-4cab-90a1-7601893b5422\", \"News_dataset.pickle\", 5166296)"
            ],
            "text/plain": [
              "<IPython.core.display.Javascript object>"
            ]
          },
          "metadata": {},
          "output_type": "display_data"
        }
      ],
      "source": [
        "from google.colab import files\n",
        "files.download('News_dataset.pickle')"
      ]
    },
    {
      "cell_type": "markdown",
      "metadata": {
        "id": "etME24HOl-ub"
      },
      "source": [
        "Feature Engineering\n"
      ]
    },
    {
      "cell_type": "code",
      "execution_count": null,
      "metadata": {
        "id": "tiDNFIwClWB1"
      },
      "outputs": [],
      "source": [
        "import pickle\n",
        "import pandas as pd\n",
        "import re\n",
        "import nltk\n",
        "from nltk.corpus import stopwords\n",
        "from nltk.stem import WordNetLemmatizer\n",
        "from sklearn.feature_extraction.text import TfidfVectorizer\n",
        "from sklearn.model_selection import train_test_split\n",
        "from sklearn.feature_selection import chi2\n",
        "import numpy as np\n",
        "\n",
        "path_df = \"/content/News_dataset (1).pickle\"\n",
        "\n",
        "with open(path_df, 'rb') as data:\n",
        "    df = pickle.load(data)\n",
        "\n",
        "df.tail()"
      ]
    },
    {
      "cell_type": "code",
      "execution_count": null,
      "metadata": {
        "colab": {
          "base_uri": "https://localhost:8080/",
          "height": 139
        },
        "id": "U8JO-OHdlyT5",
        "outputId": "36384ee5-fae9-42c8-c531-cab7cd96c3a3"
      },
      "outputs": [
        {
          "data": {
            "application/vnd.google.colaboratory.intrinsic+json": {
              "type": "string"
            },
            "text/plain": [
              "'US trade gap hits record in 2004\\n\\nThe gap between US exports and imports hit an all-time high of $671.7bn (£484bn) in 2004, latest figures show.\\n\\nThe Commerce Department said the trade deficit for all of last year was 24.4% above the previous record - 2003\\'s imbalance of $496.5bn. The deficit with China, up 30.5% at $162bn, was the largest ever recorded with a single country. However, on a monthly basis the US trade gap narrowed by 4.9% in December to £56.4bn. The US consumer\\'s appetite for all things from oil to imported cars, and even wine and cheese, reached record levels last year and the figures are likely to spark fresh criticism of President Bush\\'s economic policies.\\n\\nDemocrats claim the administration has not done enough to clamp down on unfair foreign trade practices. For example, they believe China\\'s currency policy - which US manufacturers claim has undervalued the yuan by as much as 40% - has given China\\'s rapidly expanding economy an unfair advantage against US competitors.\\n\\nMeanwhile, the Bush administration argues that the US deficit reflects the fact the America is growing at faster rate than the rest of the world, spurring on more demand for imported goods. Some economists say this may allow an upward revision of US economic growth in the fourth quarter. But others point out that the deficit has reached such astronomical proportions that foreigners many choose not to hold as many dollar-denominated assets, which may in turn harm growth. For all of 2004, US exports rose 12.3% to $1.15 trillion, but imports rose even faster by 16.3% to a new record of $1.76 trillion. Foreign oil exports surged by 35.7% to a record $180.7bn, reflecting the rally in global oil prices and increasing domestic demand. Imports were not affected by the dollar\\'s weakness last year. \"We expect the deficit to continue to widen in 2005 even if the dollar gets back to its downward trend,\" said economist Marie-Pierre Ripert at IXIS.\\n'"
            ]
          },
          "execution_count": 99,
          "metadata": {},
          "output_type": "execute_result"
        }
      ],
      "source": [
        "df.loc[1]['Content']"
      ]
    },
    {
      "cell_type": "code",
      "execution_count": null,
      "metadata": {
        "id": "Jz083DDPmDsC"
      },
      "outputs": [],
      "source": [
        "# \\r and \\n\n",
        "df['Content_Parsed_1'] = df['Content'].str.replace(\"\\r\", \" \")\n",
        "df['Content_Parsed_1'] = df['Content_Parsed_1'].str.replace(\"\\n\", \" \")\n",
        "df['Content_Parsed_1'] = df['Content_Parsed_1'].str.replace(\"    \", \" \")"
      ]
    },
    {
      "cell_type": "code",
      "execution_count": null,
      "metadata": {
        "id": "AYxLLYNEmRZ2"
      },
      "outputs": [],
      "source": [
        "# \" when quoting text\n",
        "df['Content_Parsed_1'] = df['Content_Parsed_1'].str.replace('\"', '')"
      ]
    },
    {
      "cell_type": "code",
      "execution_count": null,
      "metadata": {
        "colab": {
          "base_uri": "https://localhost:8080/",
          "height": 597
        },
        "id": "aa_iUFsunUeI",
        "outputId": "a2421be5-44bd-4f4e-86b6-5a931f917040"
      },
      "outputs": [
        {
          "data": {
            "application/vnd.google.colaboratory.intrinsic+json": {
              "summary": "{\n  \"name\": \"df\",\n  \"rows\": 2225,\n  \"fields\": [\n    {\n      \"column\": \"File_Name\",\n      \"properties\": {\n        \"dtype\": \"category\",\n        \"num_unique_values\": 511,\n        \"samples\": [\n          \"103.txt\",\n          \"033.txt\",\n          \"402.txt\"\n        ],\n        \"semantic_type\": \"\",\n        \"description\": \"\"\n      }\n    },\n    {\n      \"column\": \"Content\",\n      \"properties\": {\n        \"dtype\": \"string\",\n        \"num_unique_values\": 2127,\n        \"samples\": [\n          \"Durex maker SSL awaits firm bid\\n\\nUK condom maker SSL International has refused to comment on reports it may be subject to a takeover early in 2005.\\n\\nA Financial Times report said business intelligence firm GPW was understood to be starting due diligence work on SSL International, for a corporate client. An spokesman for SSL, which makes the famous Durex brand of condom, would not to comment on \\\"market speculation\\\". However the news sent shares in SSL, which also makes Scholl footwear, up more than 6%, or 16.75 pence to 293.5p.\\n\\nThe FT said most the high-profile firm that might woo SSL was Anglo-Dutch household products group Reckitt Benckiser. Eighteen months ago Reckitt Benckiser was at the centre of a rumoured takeover bid for SSL - but that came to nothing. Other firms that have been seen as would-be suitors include Kimberly-Clark, Johnson & Johnson, and private equity investors. Analysts have seen SSL as a takeover target for years. It sold off its surgical gloves and antiseptics businesses for \\u00a3173m to a management team in May. SSL was formed by a three-way merger between Seton Healthcare, footwear specialists Scholl and condom-maker London International Group. Its other brands include Syndol analgesic, Meltus cough medicine, Sauber compression hosiery and deodorant products, and Mister Baby.\\n\",\n          \"Half of UK's mobiles 'go online'\\n\\nMultimedia mobile phones are finally showing signs of taking off, with more Britons using them to go online.\\n\\nFigures from industry monitor, the Mobile Data Association (MDA), show the number of phones with GPRS and MMS technology has doubled since last year. GPRS lets people browse the web, access news services, mobile music and other applications like mobile chat. By the end of 2005, the MDA predicts that 75% of all mobiles in the UK will be able to access the net via GPRS. The MDA say the figures for the three months up to 30 September are a \\\"rapid increase\\\" on the figure for the same time the previous year. About 53 million people own a mobile in the UK, so the figures mean that half of those phones use GPRS. GPRS is often described as 2.5G technology - 2.5 generation - sitting between 2G and 3G technology, which is like a fast, high-quality broadband internet for phones.\\n\\nWith more services being offered by mobile operators, people are finding more reasons to go online via their mobile. Downloadable ringtones are still proving highly popular, but so is mobile chat. BandAid was the fastest ever-selling ringtone this year, according to the MDA, and chat was given some publicity when Prime Minister Tony Blair answered questions through mobile text chat. Multimedia messaging services also looked brighter with 32% of all mobiles in the UK able to send or receive picture messages. This is a 14% rise from last September's figures. But a recent report from Continental Research reflects the continuing battle mobile companies have to actually persuade people to go online and to use MMS. It said that 36% of UK camera phone users had never sent a multimedia message, or MMS. That was 7% more than in 2003. Mobile companies are keen for people to use multimedia functions their phones, like sending MMS and going online, as this generates more money for them. But critics say that MMS is confusing and some mobiles are too difficult to use. There have also been some issues over interoperability, and being able to send MMS form a mobile using one network to a different one.\\n\",\n          \"Slovakia seal Hopman Cup success\\n\\nSlovakia clinched the Hopman Cup for the second time by beating Argentina 3-0 in Saturday's final in Perth.\\n\\nDaniela Hantuchova put the third seeds ahead, recovering from a terrible start to beat Gisela Dulko 1-6 6-4 6-4. Dominik Hrbaty, who had not lost a set in his three singles matches in the group stages, then upset world number seven Guillermo Coria 6-4 6-1. Hantuchova and Hrbaty then won the mixed doubles after Coria was forced to withdraw because of a sore back. Slovakia's win made up for last year's final defeat to the United States. \\\"I would like to congratulate Daniela,\\\" Hrbaty said. \\\"I was so nervous watching her today, I almost had a heart attack. \\\"I also feel a little sorry for Guillermo because I get very excited whenever I play for my country. I show lots of emotions and played such good tennis.\\\"\\n\\nWorld number 31 Hantuchova, ranked two places above Dulko, looked nervous as she dropped the first four games of the match. Dulko, who had lost all three of her singles matches in the group stages, grew in confidence and took the opening set in just 27 minutes. But Hantuchova hit back to take the next two and the match. \\\"I was so nervous because I really wanted to win for the team and for Dominik as he played so well all week,\\\" she said. \\\"I didn't think I was playing my best but I just tried to hang in there and fight hard for every point for my country.\\\" Slovakia won the Cup on their first appearance in 1998 when Karol Kucera and Karina Habsudova beat France.\\n\"\n        ],\n        \"semantic_type\": \"\",\n        \"description\": \"\"\n      }\n    },\n    {\n      \"column\": \"Category\",\n      \"properties\": {\n        \"dtype\": \"category\",\n        \"num_unique_values\": 5,\n        \"samples\": [\n          \"entertainment\",\n          \"tech\",\n          \"politics\"\n        ],\n        \"semantic_type\": \"\",\n        \"description\": \"\"\n      }\n    },\n    {\n      \"column\": \"Complete_Filename\",\n      \"properties\": {\n        \"dtype\": \"string\",\n        \"num_unique_values\": 2225,\n        \"samples\": [\n          \"427.txt-business\",\n          \"416.txt-business\",\n          \"407.txt-sport\"\n        ],\n        \"semantic_type\": \"\",\n        \"description\": \"\"\n      }\n    },\n    {\n      \"column\": \"News_length\",\n      \"properties\": {\n        \"dtype\": \"number\",\n        \"std\": 1364,\n        \"min\": 503,\n        \"max\": 25485,\n        \"num_unique_values\": 1569,\n        \"samples\": [\n          5146,\n          4451,\n          943\n        ],\n        \"semantic_type\": \"\",\n        \"description\": \"\"\n      }\n    },\n    {\n      \"column\": \"id\",\n      \"properties\": {\n        \"dtype\": \"number\",\n        \"std\": 0,\n        \"min\": 1,\n        \"max\": 1,\n        \"num_unique_values\": 1,\n        \"samples\": [\n          1\n        ],\n        \"semantic_type\": \"\",\n        \"description\": \"\"\n      }\n    },\n    {\n      \"column\": \"Content_Parsed_1\",\n      \"properties\": {\n        \"dtype\": \"string\",\n        \"num_unique_values\": 2127,\n        \"samples\": [\n          \"Durex maker SSL awaits firm bid  UK condom maker SSL International has refused to comment on reports it may be subject to a takeover early in 2005.  A Financial Times report said business intelligence firm GPW was understood to be starting due diligence work on SSL International, for a corporate client. An spokesman for SSL, which makes the famous Durex brand of condom, would not to comment on market speculation. However the news sent shares in SSL, which also makes Scholl footwear, up more than 6%, or 16.75 pence to 293.5p.  The FT said most the high-profile firm that might woo SSL was Anglo-Dutch household products group Reckitt Benckiser. Eighteen months ago Reckitt Benckiser was at the centre of a rumoured takeover bid for SSL - but that came to nothing. Other firms that have been seen as would-be suitors include Kimberly-Clark, Johnson & Johnson, and private equity investors. Analysts have seen SSL as a takeover target for years. It sold off its surgical gloves and antiseptics businesses for \\u00a3173m to a management team in May. SSL was formed by a three-way merger between Seton Healthcare, footwear specialists Scholl and condom-maker London International Group. Its other brands include Syndol analgesic, Meltus cough medicine, Sauber compression hosiery and deodorant products, and Mister Baby. \"\n        ],\n        \"semantic_type\": \"\",\n        \"description\": \"\"\n      }\n    },\n    {\n      \"column\": \"Content_Parsed_2\",\n      \"properties\": {\n        \"dtype\": \"string\",\n        \"num_unique_values\": 2126,\n        \"samples\": [\n          \"durex maker ssl awaits firm bid  uk condom maker ssl international has refused to comment on reports it may be subject to a takeover early in 2005.  a financial times report said business intelligence firm gpw was understood to be starting due diligence work on ssl international, for a corporate client. an spokesman for ssl, which makes the famous durex brand of condom, would not to comment on market speculation. however the news sent shares in ssl, which also makes scholl footwear, up more than 6%, or 16.75 pence to 293.5p.  the ft said most the high-profile firm that might woo ssl was anglo-dutch household products group reckitt benckiser. eighteen months ago reckitt benckiser was at the centre of a rumoured takeover bid for ssl - but that came to nothing. other firms that have been seen as would-be suitors include kimberly-clark, johnson & johnson, and private equity investors. analysts have seen ssl as a takeover target for years. it sold off its surgical gloves and antiseptics businesses for \\u00a3173m to a management team in may. ssl was formed by a three-way merger between seton healthcare, footwear specialists scholl and condom-maker london international group. its other brands include syndol analgesic, meltus cough medicine, sauber compression hosiery and deodorant products, and mister baby. \"\n        ],\n        \"semantic_type\": \"\",\n        \"description\": \"\"\n      }\n    }\n  ]\n}",
              "type": "dataframe",
              "variable_name": "df"
            },
            "text/html": [
              "\n",
              "  <div id=\"df-46332e03-d0b9-46a2-a962-678137b0a4f4\" class=\"colab-df-container\">\n",
              "    <div>\n",
              "<style scoped>\n",
              "    .dataframe tbody tr th:only-of-type {\n",
              "        vertical-align: middle;\n",
              "    }\n",
              "\n",
              "    .dataframe tbody tr th {\n",
              "        vertical-align: top;\n",
              "    }\n",
              "\n",
              "    .dataframe thead th {\n",
              "        text-align: right;\n",
              "    }\n",
              "</style>\n",
              "<table border=\"1\" class=\"dataframe\">\n",
              "  <thead>\n",
              "    <tr style=\"text-align: right;\">\n",
              "      <th></th>\n",
              "      <th>File_Name</th>\n",
              "      <th>Content</th>\n",
              "      <th>Category</th>\n",
              "      <th>Complete_Filename</th>\n",
              "      <th>News_length</th>\n",
              "      <th>id</th>\n",
              "      <th>Content_Parsed_1</th>\n",
              "      <th>Content_Parsed_2</th>\n",
              "    </tr>\n",
              "  </thead>\n",
              "  <tbody>\n",
              "    <tr>\n",
              "      <th>0</th>\n",
              "      <td>027.txt</td>\n",
              "      <td>Steel firm 'to cut' 45,000 jobs\\n\\nMittal Stee...</td>\n",
              "      <td>business</td>\n",
              "      <td>027.txt-business</td>\n",
              "      <td>1619</td>\n",
              "      <td>1</td>\n",
              "      <td>Steel firm 'to cut' 45,000 jobs  Mittal Steel,...</td>\n",
              "      <td>steel firm 'to cut' 45,000 jobs  mittal steel,...</td>\n",
              "    </tr>\n",
              "    <tr>\n",
              "      <th>1</th>\n",
              "      <td>024.txt</td>\n",
              "      <td>US trade gap hits record in 2004\\n\\nThe gap be...</td>\n",
              "      <td>business</td>\n",
              "      <td>024.txt-business</td>\n",
              "      <td>1952</td>\n",
              "      <td>1</td>\n",
              "      <td>US trade gap hits record in 2004  The gap betw...</td>\n",
              "      <td>us trade gap hits record in 2004  the gap betw...</td>\n",
              "    </tr>\n",
              "    <tr>\n",
              "      <th>2</th>\n",
              "      <td>020.txt</td>\n",
              "      <td>Call centre users 'lose patience'\\n\\nCustomers...</td>\n",
              "      <td>business</td>\n",
              "      <td>020.txt-business</td>\n",
              "      <td>3854</td>\n",
              "      <td>1</td>\n",
              "      <td>Call centre users 'lose patience'  Customers t...</td>\n",
              "      <td>call centre users 'lose patience'  customers t...</td>\n",
              "    </tr>\n",
              "    <tr>\n",
              "      <th>3</th>\n",
              "      <td>019.txt</td>\n",
              "      <td>India widens access to telecoms\\n\\nIndia has r...</td>\n",
              "      <td>business</td>\n",
              "      <td>019.txt-business</td>\n",
              "      <td>1732</td>\n",
              "      <td>1</td>\n",
              "      <td>India widens access to telecoms  India has rai...</td>\n",
              "      <td>india widens access to telecoms  india has rai...</td>\n",
              "    </tr>\n",
              "    <tr>\n",
              "      <th>4</th>\n",
              "      <td>023.txt</td>\n",
              "      <td>Mixed signals from French economy\\n\\nThe Frenc...</td>\n",
              "      <td>business</td>\n",
              "      <td>023.txt-business</td>\n",
              "      <td>1267</td>\n",
              "      <td>1</td>\n",
              "      <td>Mixed signals from French economy  The French ...</td>\n",
              "      <td>mixed signals from french economy  the french ...</td>\n",
              "    </tr>\n",
              "    <tr>\n",
              "      <th>...</th>\n",
              "      <td>...</td>\n",
              "      <td>...</td>\n",
              "      <td>...</td>\n",
              "      <td>...</td>\n",
              "      <td>...</td>\n",
              "      <td>...</td>\n",
              "      <td>...</td>\n",
              "      <td>...</td>\n",
              "    </tr>\n",
              "    <tr>\n",
              "      <th>2220</th>\n",
              "      <td>398.txt</td>\n",
              "      <td>Spam e-mails tempt net shoppers\\n\\nComputer us...</td>\n",
              "      <td>tech</td>\n",
              "      <td>398.txt-tech</td>\n",
              "      <td>2285</td>\n",
              "      <td>1</td>\n",
              "      <td>Spam e-mails tempt net shoppers  Computer user...</td>\n",
              "      <td>spam e-mails tempt net shoppers  computer user...</td>\n",
              "    </tr>\n",
              "    <tr>\n",
              "      <th>2221</th>\n",
              "      <td>388.txt</td>\n",
              "      <td>Camera phones are 'must-haves'\\n\\nFour times m...</td>\n",
              "      <td>tech</td>\n",
              "      <td>388.txt-tech</td>\n",
              "      <td>3582</td>\n",
              "      <td>1</td>\n",
              "      <td>Camera phones are 'must-haves'  Four times mor...</td>\n",
              "      <td>camera phones are 'must-haves'  four times mor...</td>\n",
              "    </tr>\n",
              "    <tr>\n",
              "      <th>2222</th>\n",
              "      <td>378.txt</td>\n",
              "      <td>Mobile TV tipped as one to watch\\n\\nScandinavi...</td>\n",
              "      <td>tech</td>\n",
              "      <td>378.txt-tech</td>\n",
              "      <td>3421</td>\n",
              "      <td>1</td>\n",
              "      <td>Mobile TV tipped as one to watch  Scandinavian...</td>\n",
              "      <td>mobile tv tipped as one to watch  scandinavian...</td>\n",
              "    </tr>\n",
              "    <tr>\n",
              "      <th>2223</th>\n",
              "      <td>382.txt</td>\n",
              "      <td>Tough rules for ringtone sellers\\n\\nFirms that...</td>\n",
              "      <td>tech</td>\n",
              "      <td>382.txt-tech</td>\n",
              "      <td>3564</td>\n",
              "      <td>1</td>\n",
              "      <td>Tough rules for ringtone sellers  Firms that f...</td>\n",
              "      <td>tough rules for ringtone sellers  firms that f...</td>\n",
              "    </tr>\n",
              "    <tr>\n",
              "      <th>2224</th>\n",
              "      <td>387.txt</td>\n",
              "      <td>Progress on new internet domains\\n\\nBy early 2...</td>\n",
              "      <td>tech</td>\n",
              "      <td>387.txt-tech</td>\n",
              "      <td>1988</td>\n",
              "      <td>1</td>\n",
              "      <td>Progress on new internet domains  By early 200...</td>\n",
              "      <td>progress on new internet domains  by early 200...</td>\n",
              "    </tr>\n",
              "  </tbody>\n",
              "</table>\n",
              "<p>2225 rows × 8 columns</p>\n",
              "</div>\n",
              "    <div class=\"colab-df-buttons\">\n",
              "\n",
              "  <div class=\"colab-df-container\">\n",
              "    <button class=\"colab-df-convert\" onclick=\"convertToInteractive('df-46332e03-d0b9-46a2-a962-678137b0a4f4')\"\n",
              "            title=\"Convert this dataframe to an interactive table.\"\n",
              "            style=\"display:none;\">\n",
              "\n",
              "  <svg xmlns=\"http://www.w3.org/2000/svg\" height=\"24px\" viewBox=\"0 -960 960 960\">\n",
              "    <path d=\"M120-120v-720h720v720H120Zm60-500h600v-160H180v160Zm220 220h160v-160H400v160Zm0 220h160v-160H400v160ZM180-400h160v-160H180v160Zm440 0h160v-160H620v160ZM180-180h160v-160H180v160Zm440 0h160v-160H620v160Z\"/>\n",
              "  </svg>\n",
              "    </button>\n",
              "\n",
              "  <style>\n",
              "    .colab-df-container {\n",
              "      display:flex;\n",
              "      gap: 12px;\n",
              "    }\n",
              "\n",
              "    .colab-df-convert {\n",
              "      background-color: #E8F0FE;\n",
              "      border: none;\n",
              "      border-radius: 50%;\n",
              "      cursor: pointer;\n",
              "      display: none;\n",
              "      fill: #1967D2;\n",
              "      height: 32px;\n",
              "      padding: 0 0 0 0;\n",
              "      width: 32px;\n",
              "    }\n",
              "\n",
              "    .colab-df-convert:hover {\n",
              "      background-color: #E2EBFA;\n",
              "      box-shadow: 0px 1px 2px rgba(60, 64, 67, 0.3), 0px 1px 3px 1px rgba(60, 64, 67, 0.15);\n",
              "      fill: #174EA6;\n",
              "    }\n",
              "\n",
              "    .colab-df-buttons div {\n",
              "      margin-bottom: 4px;\n",
              "    }\n",
              "\n",
              "    [theme=dark] .colab-df-convert {\n",
              "      background-color: #3B4455;\n",
              "      fill: #D2E3FC;\n",
              "    }\n",
              "\n",
              "    [theme=dark] .colab-df-convert:hover {\n",
              "      background-color: #434B5C;\n",
              "      box-shadow: 0px 1px 3px 1px rgba(0, 0, 0, 0.15);\n",
              "      filter: drop-shadow(0px 1px 2px rgba(0, 0, 0, 0.3));\n",
              "      fill: #FFFFFF;\n",
              "    }\n",
              "  </style>\n",
              "\n",
              "    <script>\n",
              "      const buttonEl =\n",
              "        document.querySelector('#df-46332e03-d0b9-46a2-a962-678137b0a4f4 button.colab-df-convert');\n",
              "      buttonEl.style.display =\n",
              "        google.colab.kernel.accessAllowed ? 'block' : 'none';\n",
              "\n",
              "      async function convertToInteractive(key) {\n",
              "        const element = document.querySelector('#df-46332e03-d0b9-46a2-a962-678137b0a4f4');\n",
              "        const dataTable =\n",
              "          await google.colab.kernel.invokeFunction('convertToInteractive',\n",
              "                                                    [key], {});\n",
              "        if (!dataTable) return;\n",
              "\n",
              "        const docLinkHtml = 'Like what you see? Visit the ' +\n",
              "          '<a target=\"_blank\" href=https://colab.research.google.com/notebooks/data_table.ipynb>data table notebook</a>'\n",
              "          + ' to learn more about interactive tables.';\n",
              "        element.innerHTML = '';\n",
              "        dataTable['output_type'] = 'display_data';\n",
              "        await google.colab.output.renderOutput(dataTable, element);\n",
              "        const docLink = document.createElement('div');\n",
              "        docLink.innerHTML = docLinkHtml;\n",
              "        element.appendChild(docLink);\n",
              "      }\n",
              "    </script>\n",
              "  </div>\n",
              "\n",
              "\n",
              "<div id=\"df-721ef77b-238b-4b85-bbe1-33a85b781744\">\n",
              "  <button class=\"colab-df-quickchart\" onclick=\"quickchart('df-721ef77b-238b-4b85-bbe1-33a85b781744')\"\n",
              "            title=\"Suggest charts\"\n",
              "            style=\"display:none;\">\n",
              "\n",
              "<svg xmlns=\"http://www.w3.org/2000/svg\" height=\"24px\"viewBox=\"0 0 24 24\"\n",
              "     width=\"24px\">\n",
              "    <g>\n",
              "        <path d=\"M19 3H5c-1.1 0-2 .9-2 2v14c0 1.1.9 2 2 2h14c1.1 0 2-.9 2-2V5c0-1.1-.9-2-2-2zM9 17H7v-7h2v7zm4 0h-2V7h2v10zm4 0h-2v-4h2v4z\"/>\n",
              "    </g>\n",
              "</svg>\n",
              "  </button>\n",
              "\n",
              "<style>\n",
              "  .colab-df-quickchart {\n",
              "      --bg-color: #E8F0FE;\n",
              "      --fill-color: #1967D2;\n",
              "      --hover-bg-color: #E2EBFA;\n",
              "      --hover-fill-color: #174EA6;\n",
              "      --disabled-fill-color: #AAA;\n",
              "      --disabled-bg-color: #DDD;\n",
              "  }\n",
              "\n",
              "  [theme=dark] .colab-df-quickchart {\n",
              "      --bg-color: #3B4455;\n",
              "      --fill-color: #D2E3FC;\n",
              "      --hover-bg-color: #434B5C;\n",
              "      --hover-fill-color: #FFFFFF;\n",
              "      --disabled-bg-color: #3B4455;\n",
              "      --disabled-fill-color: #666;\n",
              "  }\n",
              "\n",
              "  .colab-df-quickchart {\n",
              "    background-color: var(--bg-color);\n",
              "    border: none;\n",
              "    border-radius: 50%;\n",
              "    cursor: pointer;\n",
              "    display: none;\n",
              "    fill: var(--fill-color);\n",
              "    height: 32px;\n",
              "    padding: 0;\n",
              "    width: 32px;\n",
              "  }\n",
              "\n",
              "  .colab-df-quickchart:hover {\n",
              "    background-color: var(--hover-bg-color);\n",
              "    box-shadow: 0 1px 2px rgba(60, 64, 67, 0.3), 0 1px 3px 1px rgba(60, 64, 67, 0.15);\n",
              "    fill: var(--button-hover-fill-color);\n",
              "  }\n",
              "\n",
              "  .colab-df-quickchart-complete:disabled,\n",
              "  .colab-df-quickchart-complete:disabled:hover {\n",
              "    background-color: var(--disabled-bg-color);\n",
              "    fill: var(--disabled-fill-color);\n",
              "    box-shadow: none;\n",
              "  }\n",
              "\n",
              "  .colab-df-spinner {\n",
              "    border: 2px solid var(--fill-color);\n",
              "    border-color: transparent;\n",
              "    border-bottom-color: var(--fill-color);\n",
              "    animation:\n",
              "      spin 1s steps(1) infinite;\n",
              "  }\n",
              "\n",
              "  @keyframes spin {\n",
              "    0% {\n",
              "      border-color: transparent;\n",
              "      border-bottom-color: var(--fill-color);\n",
              "      border-left-color: var(--fill-color);\n",
              "    }\n",
              "    20% {\n",
              "      border-color: transparent;\n",
              "      border-left-color: var(--fill-color);\n",
              "      border-top-color: var(--fill-color);\n",
              "    }\n",
              "    30% {\n",
              "      border-color: transparent;\n",
              "      border-left-color: var(--fill-color);\n",
              "      border-top-color: var(--fill-color);\n",
              "      border-right-color: var(--fill-color);\n",
              "    }\n",
              "    40% {\n",
              "      border-color: transparent;\n",
              "      border-right-color: var(--fill-color);\n",
              "      border-top-color: var(--fill-color);\n",
              "    }\n",
              "    60% {\n",
              "      border-color: transparent;\n",
              "      border-right-color: var(--fill-color);\n",
              "    }\n",
              "    80% {\n",
              "      border-color: transparent;\n",
              "      border-right-color: var(--fill-color);\n",
              "      border-bottom-color: var(--fill-color);\n",
              "    }\n",
              "    90% {\n",
              "      border-color: transparent;\n",
              "      border-bottom-color: var(--fill-color);\n",
              "    }\n",
              "  }\n",
              "</style>\n",
              "\n",
              "  <script>\n",
              "    async function quickchart(key) {\n",
              "      const quickchartButtonEl =\n",
              "        document.querySelector('#' + key + ' button');\n",
              "      quickchartButtonEl.disabled = true;  // To prevent multiple clicks.\n",
              "      quickchartButtonEl.classList.add('colab-df-spinner');\n",
              "      try {\n",
              "        const charts = await google.colab.kernel.invokeFunction(\n",
              "            'suggestCharts', [key], {});\n",
              "      } catch (error) {\n",
              "        console.error('Error during call to suggestCharts:', error);\n",
              "      }\n",
              "      quickchartButtonEl.classList.remove('colab-df-spinner');\n",
              "      quickchartButtonEl.classList.add('colab-df-quickchart-complete');\n",
              "    }\n",
              "    (() => {\n",
              "      let quickchartButtonEl =\n",
              "        document.querySelector('#df-721ef77b-238b-4b85-bbe1-33a85b781744 button');\n",
              "      quickchartButtonEl.style.display =\n",
              "        google.colab.kernel.accessAllowed ? 'block' : 'none';\n",
              "    })();\n",
              "  </script>\n",
              "</div>\n",
              "\n",
              "  <div id=\"id_42c9bf52-887d-41b9-ba4c-aa31766dcab4\">\n",
              "    <style>\n",
              "      .colab-df-generate {\n",
              "        background-color: #E8F0FE;\n",
              "        border: none;\n",
              "        border-radius: 50%;\n",
              "        cursor: pointer;\n",
              "        display: none;\n",
              "        fill: #1967D2;\n",
              "        height: 32px;\n",
              "        padding: 0 0 0 0;\n",
              "        width: 32px;\n",
              "      }\n",
              "\n",
              "      .colab-df-generate:hover {\n",
              "        background-color: #E2EBFA;\n",
              "        box-shadow: 0px 1px 2px rgba(60, 64, 67, 0.3), 0px 1px 3px 1px rgba(60, 64, 67, 0.15);\n",
              "        fill: #174EA6;\n",
              "      }\n",
              "\n",
              "      [theme=dark] .colab-df-generate {\n",
              "        background-color: #3B4455;\n",
              "        fill: #D2E3FC;\n",
              "      }\n",
              "\n",
              "      [theme=dark] .colab-df-generate:hover {\n",
              "        background-color: #434B5C;\n",
              "        box-shadow: 0px 1px 3px 1px rgba(0, 0, 0, 0.15);\n",
              "        filter: drop-shadow(0px 1px 2px rgba(0, 0, 0, 0.3));\n",
              "        fill: #FFFFFF;\n",
              "      }\n",
              "    </style>\n",
              "    <button class=\"colab-df-generate\" onclick=\"generateWithVariable('df')\"\n",
              "            title=\"Generate code using this dataframe.\"\n",
              "            style=\"display:none;\">\n",
              "\n",
              "  <svg xmlns=\"http://www.w3.org/2000/svg\" height=\"24px\"viewBox=\"0 0 24 24\"\n",
              "       width=\"24px\">\n",
              "    <path d=\"M7,19H8.4L18.45,9,17,7.55,7,17.6ZM5,21V16.75L18.45,3.32a2,2,0,0,1,2.83,0l1.4,1.43a1.91,1.91,0,0,1,.58,1.4,1.91,1.91,0,0,1-.58,1.4L9.25,21ZM18.45,9,17,7.55Zm-12,3A5.31,5.31,0,0,0,4.9,8.1,5.31,5.31,0,0,0,1,6.5,5.31,5.31,0,0,0,4.9,4.9,5.31,5.31,0,0,0,6.5,1,5.31,5.31,0,0,0,8.1,4.9,5.31,5.31,0,0,0,12,6.5,5.46,5.46,0,0,0,6.5,12Z\"/>\n",
              "  </svg>\n",
              "    </button>\n",
              "    <script>\n",
              "      (() => {\n",
              "      const buttonEl =\n",
              "        document.querySelector('#id_42c9bf52-887d-41b9-ba4c-aa31766dcab4 button.colab-df-generate');\n",
              "      buttonEl.style.display =\n",
              "        google.colab.kernel.accessAllowed ? 'block' : 'none';\n",
              "\n",
              "      buttonEl.onclick = () => {\n",
              "        google.colab.notebook.generateWithVariable('df');\n",
              "      }\n",
              "      })();\n",
              "    </script>\n",
              "  </div>\n",
              "\n",
              "    </div>\n",
              "  </div>\n"
            ],
            "text/plain": [
              "     File_Name                                            Content  Category  \\\n",
              "0      027.txt  Steel firm 'to cut' 45,000 jobs\\n\\nMittal Stee...  business   \n",
              "1      024.txt  US trade gap hits record in 2004\\n\\nThe gap be...  business   \n",
              "2      020.txt  Call centre users 'lose patience'\\n\\nCustomers...  business   \n",
              "3      019.txt  India widens access to telecoms\\n\\nIndia has r...  business   \n",
              "4      023.txt  Mixed signals from French economy\\n\\nThe Frenc...  business   \n",
              "...        ...                                                ...       ...   \n",
              "2220   398.txt  Spam e-mails tempt net shoppers\\n\\nComputer us...      tech   \n",
              "2221   388.txt  Camera phones are 'must-haves'\\n\\nFour times m...      tech   \n",
              "2222   378.txt  Mobile TV tipped as one to watch\\n\\nScandinavi...      tech   \n",
              "2223   382.txt  Tough rules for ringtone sellers\\n\\nFirms that...      tech   \n",
              "2224   387.txt  Progress on new internet domains\\n\\nBy early 2...      tech   \n",
              "\n",
              "     Complete_Filename  News_length  id  \\\n",
              "0     027.txt-business         1619   1   \n",
              "1     024.txt-business         1952   1   \n",
              "2     020.txt-business         3854   1   \n",
              "3     019.txt-business         1732   1   \n",
              "4     023.txt-business         1267   1   \n",
              "...                ...          ...  ..   \n",
              "2220      398.txt-tech         2285   1   \n",
              "2221      388.txt-tech         3582   1   \n",
              "2222      378.txt-tech         3421   1   \n",
              "2223      382.txt-tech         3564   1   \n",
              "2224      387.txt-tech         1988   1   \n",
              "\n",
              "                                       Content_Parsed_1  \\\n",
              "0     Steel firm 'to cut' 45,000 jobs  Mittal Steel,...   \n",
              "1     US trade gap hits record in 2004  The gap betw...   \n",
              "2     Call centre users 'lose patience'  Customers t...   \n",
              "3     India widens access to telecoms  India has rai...   \n",
              "4     Mixed signals from French economy  The French ...   \n",
              "...                                                 ...   \n",
              "2220  Spam e-mails tempt net shoppers  Computer user...   \n",
              "2221  Camera phones are 'must-haves'  Four times mor...   \n",
              "2222  Mobile TV tipped as one to watch  Scandinavian...   \n",
              "2223  Tough rules for ringtone sellers  Firms that f...   \n",
              "2224  Progress on new internet domains  By early 200...   \n",
              "\n",
              "                                       Content_Parsed_2  \n",
              "0     steel firm 'to cut' 45,000 jobs  mittal steel,...  \n",
              "1     us trade gap hits record in 2004  the gap betw...  \n",
              "2     call centre users 'lose patience'  customers t...  \n",
              "3     india widens access to telecoms  india has rai...  \n",
              "4     mixed signals from french economy  the french ...  \n",
              "...                                                 ...  \n",
              "2220  spam e-mails tempt net shoppers  computer user...  \n",
              "2221  camera phones are 'must-haves'  four times mor...  \n",
              "2222  mobile tv tipped as one to watch  scandinavian...  \n",
              "2223  tough rules for ringtone sellers  firms that f...  \n",
              "2224  progress on new internet domains  by early 200...  \n",
              "\n",
              "[2225 rows x 8 columns]"
            ]
          },
          "execution_count": 102,
          "metadata": {},
          "output_type": "execute_result"
        }
      ],
      "source": [
        "# Lowercasing the text\n",
        "df['Content_Parsed_2'] = df['Content_Parsed_1'].str.lower()\n",
        "df"
      ]
    },
    {
      "cell_type": "code",
      "execution_count": null,
      "metadata": {
        "id": "hH31sdnonc_h"
      },
      "outputs": [],
      "source": [
        "punctuation_signs = list(\"?:!.,;\")\n",
        "df['Content_Parsed_3'] = df['Content_Parsed_2']\n",
        "\n",
        "for punct_sign in punctuation_signs:\n",
        "    df['Content_Parsed_3'] = df['Content_Parsed_3'].str.replace(punct_sign, '')\n"
      ]
    },
    {
      "cell_type": "code",
      "execution_count": null,
      "metadata": {
        "id": "hraA2PitnhFX"
      },
      "outputs": [],
      "source": [
        "df['Content_Parsed_4'] = df['Content_Parsed_3'].str.replace(\"'s\", \"\")"
      ]
    },
    {
      "cell_type": "code",
      "execution_count": null,
      "metadata": {
        "colab": {
          "base_uri": "https://localhost:8080/"
        },
        "id": "SXe7a5c3nhL1",
        "outputId": "60be2153-d2ef-4255-dbfb-dd46abfd3511"
      },
      "outputs": [
        {
          "name": "stdout",
          "output_type": "stream",
          "text": [
            "------------------------------------------------------------\n"
          ]
        },
        {
          "name": "stderr",
          "output_type": "stream",
          "text": [
            "[nltk_data] Downloading package punkt to /root/nltk_data...\n",
            "[nltk_data]   Package punkt is already up-to-date!\n",
            "[nltk_data] Downloading package wordnet to /root/nltk_data...\n",
            "[nltk_data]   Package wordnet is already up-to-date!\n"
          ]
        },
        {
          "data": {
            "text/plain": [
              "True"
            ]
          },
          "execution_count": 105,
          "metadata": {},
          "output_type": "execute_result"
        }
      ],
      "source": [
        "# Downloading punkt and wordnet from NLTK\n",
        "nltk.download('punkt')\n",
        "print(\"------------------------------------------------------------\")\n",
        "nltk.download('wordnet')"
      ]
    },
    {
      "cell_type": "code",
      "execution_count": null,
      "metadata": {
        "id": "O2mKKA6lnoTx"
      },
      "outputs": [],
      "source": [
        "# Saving the lemmatizer into an object\n",
        "wordnet_lemmatizer = WordNetLemmatizer()"
      ]
    },
    {
      "cell_type": "code",
      "execution_count": null,
      "metadata": {
        "id": "5RZpNWS6nsUn"
      },
      "outputs": [],
      "source": [
        "nrows = len(df)\n",
        "lemmatized_text_list = []\n",
        "\n",
        "for row in range(0, nrows):\n",
        "\n",
        "    # Create an empty list containing lemmatized words\n",
        "    lemmatized_list = []\n",
        "\n",
        "    # Save the text and its words into an object\n",
        "    text = df.loc[row]['Content_Parsed_4']\n",
        "    text_words = text.split(\" \")\n",
        "\n",
        "    # Iterate through every word to lemmatize\n",
        "    for word in text_words:\n",
        "        lemmatized_list.append(wordnet_lemmatizer.lemmatize(word, pos=\"v\"))\n",
        "\n",
        "    # Join the list\n",
        "    lemmatized_text = \" \".join(lemmatized_list)\n",
        "\n",
        "    # Append to the list containing the texts\n",
        "    lemmatized_text_list.append(lemmatized_text)"
      ]
    },
    {
      "cell_type": "code",
      "execution_count": null,
      "metadata": {
        "id": "bTXuDQqunzEs"
      },
      "outputs": [],
      "source": [
        "df['Content_Parsed_5'] = lemmatized_text_list"
      ]
    },
    {
      "cell_type": "code",
      "execution_count": null,
      "metadata": {
        "id": "ZDk5IwR0n0Yd"
      },
      "outputs": [],
      "source": [
        "df"
      ]
    },
    {
      "cell_type": "code",
      "execution_count": null,
      "metadata": {
        "colab": {
          "base_uri": "https://localhost:8080/"
        },
        "id": "a-Q9AgDUn6dH",
        "outputId": "6f514a11-935e-4350-b23d-850af9ce0db4"
      },
      "outputs": [
        {
          "name": "stderr",
          "output_type": "stream",
          "text": [
            "[nltk_data] Downloading package stopwords to /root/nltk_data...\n",
            "[nltk_data]   Package stopwords is already up-to-date!\n"
          ]
        },
        {
          "data": {
            "text/plain": [
              "True"
            ]
          },
          "execution_count": 110,
          "metadata": {},
          "output_type": "execute_result"
        }
      ],
      "source": [
        "# Downloading the stop words list\n",
        "nltk.download('stopwords')"
      ]
    },
    {
      "cell_type": "code",
      "execution_count": null,
      "metadata": {
        "colab": {
          "base_uri": "https://localhost:8080/"
        },
        "id": "tiGl11tZn9-i",
        "outputId": "540a34e0-140c-429b-9980-728894d920ff"
      },
      "outputs": [
        {
          "data": {
            "text/plain": [
              "['i', 'me', 'my', 'myself', 'we', 'our', 'ours', 'ourselves', 'you', \"you're\"]"
            ]
          },
          "execution_count": 111,
          "metadata": {},
          "output_type": "execute_result"
        }
      ],
      "source": [
        "# Loading the stop words in english\n",
        "stop_words = list(stopwords.words('english'))\n",
        "stop_words[0:10]"
      ]
    },
    {
      "cell_type": "code",
      "execution_count": null,
      "metadata": {
        "colab": {
          "base_uri": "https://localhost:8080/",
          "height": 35
        },
        "id": "5DcMvdXZoGlO",
        "outputId": "3ce55115-3d63-4f57-9100-d19f4275715d"
      },
      "outputs": [
        {
          "data": {
            "application/vnd.google.colaboratory.intrinsic+json": {
              "type": "string"
            },
            "text/plain": [
              "'StopWord eating a meal'"
            ]
          },
          "execution_count": 112,
          "metadata": {},
          "output_type": "execute_result"
        }
      ],
      "source": [
        "example = \"me eating a meal\"\n",
        "word = \"me\"\n",
        "\n",
        "# The regular expression is:\n",
        "regex = r\"\\b\" + word + r\"\\b\"  # we need to build it like that to work properly\n",
        "\n",
        "re.sub(regex, \"StopWord\", example)"
      ]
    },
    {
      "cell_type": "code",
      "execution_count": null,
      "metadata": {
        "id": "KtJckJaqoOGj"
      },
      "outputs": [],
      "source": [
        "df['Content_Parsed_6'] = df['Content_Parsed_5']\n",
        "\n",
        "for stop_word in stop_words:\n",
        "\n",
        "    regex_stopword = r\"\\b\" + stop_word + r\"\\b\"\n",
        "    df['Content_Parsed_6'] = df['Content_Parsed_6'].str.replace(regex_stopword, '')"
      ]
    },
    {
      "cell_type": "code",
      "execution_count": null,
      "metadata": {
        "colab": {
          "base_uri": "https://localhost:8080/",
          "height": 139
        },
        "id": "tgz4A6RToaJv",
        "outputId": "1182cdb5-0c1a-4eb2-809e-3594265bf0c4"
      },
      "outputs": [
        {
          "data": {
            "application/vnd.google.colaboratory.intrinsic+json": {
              "type": "string"
            },
            "text/plain": [
              "'sluggish economy hit german job   number  people   work  europe largest economy  rise   tenth straight month  growth remain stubbornly slow  german unemployment rise 7000  november  4464 million people  108%   workforce  seasonally adjust rise show  smaller rise  expect  government measure  encourage job creation begin  take effect  officials say stagnant growth  still stifle  job market   clear sign   revival  domestic demand say frank-juergen weise head   federal labour agency   statement  growth  01%   third quarter  still insufficient  deliver positive momentum   labour market high oil price   soar euro -  damage  competitiveness  exporters -  also   negative effect  say  brunt   unemployment  still  felt   eastern part  germany   rate  188%   unemployment stick  4 million  years  government  chancellor gerhard schroeder  put job creation   top   agenda  controversial package  measure  shake  incentives  get back  work pay   cut  cherish benefit  spark anger among  german workers strike   number  industries notably among  country iconic carmakers  demonstrate  displeasure -  well  fear   job losses  outsource take hold among  new initiatives   -called one-euro job  top  unemployment benefit  scheme formal launch  january  hire   position  already take place  affect  unemployment statistics economists say  deterioration   labour market   come   surprise say isabelle kronawitter  hypovereinsbank job creation measure probably prevent  stronger increase   seasonally adjust number '"
            ]
          },
          "execution_count": 114,
          "metadata": {},
          "output_type": "execute_result"
        }
      ],
      "source": [
        "df.loc[5]['Content_Parsed_6']"
      ]
    },
    {
      "cell_type": "code",
      "execution_count": null,
      "metadata": {
        "colab": {
          "base_uri": "https://localhost:8080/",
          "height": 152
        },
        "id": "a1LP4FZho8Ml",
        "outputId": "b8afecaa-7bfe-4b2f-ca47-23b6945549af"
      },
      "outputs": [
        {
          "data": {
            "application/vnd.google.colaboratory.intrinsic+json": {
              "summary": "{\n  \"name\": \"df\",\n  \"rows\": 2225,\n  \"fields\": [\n    {\n      \"column\": \"File_Name\",\n      \"properties\": {\n        \"dtype\": \"category\",\n        \"num_unique_values\": 511,\n        \"samples\": [\n          \"103.txt\",\n          \"033.txt\",\n          \"402.txt\"\n        ],\n        \"semantic_type\": \"\",\n        \"description\": \"\"\n      }\n    },\n    {\n      \"column\": \"Content\",\n      \"properties\": {\n        \"dtype\": \"string\",\n        \"num_unique_values\": 2127,\n        \"samples\": [\n          \"Durex maker SSL awaits firm bid\\n\\nUK condom maker SSL International has refused to comment on reports it may be subject to a takeover early in 2005.\\n\\nA Financial Times report said business intelligence firm GPW was understood to be starting due diligence work on SSL International, for a corporate client. An spokesman for SSL, which makes the famous Durex brand of condom, would not to comment on \\\"market speculation\\\". However the news sent shares in SSL, which also makes Scholl footwear, up more than 6%, or 16.75 pence to 293.5p.\\n\\nThe FT said most the high-profile firm that might woo SSL was Anglo-Dutch household products group Reckitt Benckiser. Eighteen months ago Reckitt Benckiser was at the centre of a rumoured takeover bid for SSL - but that came to nothing. Other firms that have been seen as would-be suitors include Kimberly-Clark, Johnson & Johnson, and private equity investors. Analysts have seen SSL as a takeover target for years. It sold off its surgical gloves and antiseptics businesses for \\u00a3173m to a management team in May. SSL was formed by a three-way merger between Seton Healthcare, footwear specialists Scholl and condom-maker London International Group. Its other brands include Syndol analgesic, Meltus cough medicine, Sauber compression hosiery and deodorant products, and Mister Baby.\\n\",\n          \"Half of UK's mobiles 'go online'\\n\\nMultimedia mobile phones are finally showing signs of taking off, with more Britons using them to go online.\\n\\nFigures from industry monitor, the Mobile Data Association (MDA), show the number of phones with GPRS and MMS technology has doubled since last year. GPRS lets people browse the web, access news services, mobile music and other applications like mobile chat. By the end of 2005, the MDA predicts that 75% of all mobiles in the UK will be able to access the net via GPRS. The MDA say the figures for the three months up to 30 September are a \\\"rapid increase\\\" on the figure for the same time the previous year. About 53 million people own a mobile in the UK, so the figures mean that half of those phones use GPRS. GPRS is often described as 2.5G technology - 2.5 generation - sitting between 2G and 3G technology, which is like a fast, high-quality broadband internet for phones.\\n\\nWith more services being offered by mobile operators, people are finding more reasons to go online via their mobile. Downloadable ringtones are still proving highly popular, but so is mobile chat. BandAid was the fastest ever-selling ringtone this year, according to the MDA, and chat was given some publicity when Prime Minister Tony Blair answered questions through mobile text chat. Multimedia messaging services also looked brighter with 32% of all mobiles in the UK able to send or receive picture messages. This is a 14% rise from last September's figures. But a recent report from Continental Research reflects the continuing battle mobile companies have to actually persuade people to go online and to use MMS. It said that 36% of UK camera phone users had never sent a multimedia message, or MMS. That was 7% more than in 2003. Mobile companies are keen for people to use multimedia functions their phones, like sending MMS and going online, as this generates more money for them. But critics say that MMS is confusing and some mobiles are too difficult to use. There have also been some issues over interoperability, and being able to send MMS form a mobile using one network to a different one.\\n\",\n          \"Slovakia seal Hopman Cup success\\n\\nSlovakia clinched the Hopman Cup for the second time by beating Argentina 3-0 in Saturday's final in Perth.\\n\\nDaniela Hantuchova put the third seeds ahead, recovering from a terrible start to beat Gisela Dulko 1-6 6-4 6-4. Dominik Hrbaty, who had not lost a set in his three singles matches in the group stages, then upset world number seven Guillermo Coria 6-4 6-1. Hantuchova and Hrbaty then won the mixed doubles after Coria was forced to withdraw because of a sore back. Slovakia's win made up for last year's final defeat to the United States. \\\"I would like to congratulate Daniela,\\\" Hrbaty said. \\\"I was so nervous watching her today, I almost had a heart attack. \\\"I also feel a little sorry for Guillermo because I get very excited whenever I play for my country. I show lots of emotions and played such good tennis.\\\"\\n\\nWorld number 31 Hantuchova, ranked two places above Dulko, looked nervous as she dropped the first four games of the match. Dulko, who had lost all three of her singles matches in the group stages, grew in confidence and took the opening set in just 27 minutes. But Hantuchova hit back to take the next two and the match. \\\"I was so nervous because I really wanted to win for the team and for Dominik as he played so well all week,\\\" she said. \\\"I didn't think I was playing my best but I just tried to hang in there and fight hard for every point for my country.\\\" Slovakia won the Cup on their first appearance in 1998 when Karol Kucera and Karina Habsudova beat France.\\n\"\n        ],\n        \"semantic_type\": \"\",\n        \"description\": \"\"\n      }\n    },\n    {\n      \"column\": \"Category\",\n      \"properties\": {\n        \"dtype\": \"category\",\n        \"num_unique_values\": 5,\n        \"samples\": [\n          \"entertainment\",\n          \"tech\",\n          \"politics\"\n        ],\n        \"semantic_type\": \"\",\n        \"description\": \"\"\n      }\n    },\n    {\n      \"column\": \"Complete_Filename\",\n      \"properties\": {\n        \"dtype\": \"string\",\n        \"num_unique_values\": 2225,\n        \"samples\": [\n          \"427.txt-business\",\n          \"416.txt-business\",\n          \"407.txt-sport\"\n        ],\n        \"semantic_type\": \"\",\n        \"description\": \"\"\n      }\n    },\n    {\n      \"column\": \"News_length\",\n      \"properties\": {\n        \"dtype\": \"number\",\n        \"std\": 1364,\n        \"min\": 503,\n        \"max\": 25485,\n        \"num_unique_values\": 1569,\n        \"samples\": [\n          5146,\n          4451,\n          943\n        ],\n        \"semantic_type\": \"\",\n        \"description\": \"\"\n      }\n    },\n    {\n      \"column\": \"id\",\n      \"properties\": {\n        \"dtype\": \"number\",\n        \"std\": 0,\n        \"min\": 1,\n        \"max\": 1,\n        \"num_unique_values\": 1,\n        \"samples\": [\n          1\n        ],\n        \"semantic_type\": \"\",\n        \"description\": \"\"\n      }\n    },\n    {\n      \"column\": \"Content_Parsed_1\",\n      \"properties\": {\n        \"dtype\": \"string\",\n        \"num_unique_values\": 2127,\n        \"samples\": [\n          \"Durex maker SSL awaits firm bid  UK condom maker SSL International has refused to comment on reports it may be subject to a takeover early in 2005.  A Financial Times report said business intelligence firm GPW was understood to be starting due diligence work on SSL International, for a corporate client. An spokesman for SSL, which makes the famous Durex brand of condom, would not to comment on market speculation. However the news sent shares in SSL, which also makes Scholl footwear, up more than 6%, or 16.75 pence to 293.5p.  The FT said most the high-profile firm that might woo SSL was Anglo-Dutch household products group Reckitt Benckiser. Eighteen months ago Reckitt Benckiser was at the centre of a rumoured takeover bid for SSL - but that came to nothing. Other firms that have been seen as would-be suitors include Kimberly-Clark, Johnson & Johnson, and private equity investors. Analysts have seen SSL as a takeover target for years. It sold off its surgical gloves and antiseptics businesses for \\u00a3173m to a management team in May. SSL was formed by a three-way merger between Seton Healthcare, footwear specialists Scholl and condom-maker London International Group. Its other brands include Syndol analgesic, Meltus cough medicine, Sauber compression hosiery and deodorant products, and Mister Baby. \"\n        ],\n        \"semantic_type\": \"\",\n        \"description\": \"\"\n      }\n    },\n    {\n      \"column\": \"Content_Parsed_2\",\n      \"properties\": {\n        \"dtype\": \"string\",\n        \"num_unique_values\": 2126,\n        \"samples\": [\n          \"durex maker ssl awaits firm bid  uk condom maker ssl international has refused to comment on reports it may be subject to a takeover early in 2005.  a financial times report said business intelligence firm gpw was understood to be starting due diligence work on ssl international, for a corporate client. an spokesman for ssl, which makes the famous durex brand of condom, would not to comment on market speculation. however the news sent shares in ssl, which also makes scholl footwear, up more than 6%, or 16.75 pence to 293.5p.  the ft said most the high-profile firm that might woo ssl was anglo-dutch household products group reckitt benckiser. eighteen months ago reckitt benckiser was at the centre of a rumoured takeover bid for ssl - but that came to nothing. other firms that have been seen as would-be suitors include kimberly-clark, johnson & johnson, and private equity investors. analysts have seen ssl as a takeover target for years. it sold off its surgical gloves and antiseptics businesses for \\u00a3173m to a management team in may. ssl was formed by a three-way merger between seton healthcare, footwear specialists scholl and condom-maker london international group. its other brands include syndol analgesic, meltus cough medicine, sauber compression hosiery and deodorant products, and mister baby. \"\n        ],\n        \"semantic_type\": \"\",\n        \"description\": \"\"\n      }\n    },\n    {\n      \"column\": \"Content_Parsed_3\",\n      \"properties\": {\n        \"dtype\": \"string\",\n        \"num_unique_values\": 2125,\n        \"samples\": [\n          \"durex maker ssl awaits firm bid  uk condom maker ssl international has refused to comment on reports it may be subject to a takeover early in 2005  a financial times report said business intelligence firm gpw was understood to be starting due diligence work on ssl international for a corporate client an spokesman for ssl which makes the famous durex brand of condom would not to comment on market speculation however the news sent shares in ssl which also makes scholl footwear up more than 6% or 1675 pence to 2935p  the ft said most the high-profile firm that might woo ssl was anglo-dutch household products group reckitt benckiser eighteen months ago reckitt benckiser was at the centre of a rumoured takeover bid for ssl - but that came to nothing other firms that have been seen as would-be suitors include kimberly-clark johnson & johnson and private equity investors analysts have seen ssl as a takeover target for years it sold off its surgical gloves and antiseptics businesses for \\u00a3173m to a management team in may ssl was formed by a three-way merger between seton healthcare footwear specialists scholl and condom-maker london international group its other brands include syndol analgesic meltus cough medicine sauber compression hosiery and deodorant products and mister baby \"\n        ],\n        \"semantic_type\": \"\",\n        \"description\": \"\"\n      }\n    },\n    {\n      \"column\": \"Content_Parsed_4\",\n      \"properties\": {\n        \"dtype\": \"string\",\n        \"num_unique_values\": 2125,\n        \"samples\": [\n          \"durex maker ssl awaits firm bid  uk condom maker ssl international has refused to comment on reports it may be subject to a takeover early in 2005  a financial times report said business intelligence firm gpw was understood to be starting due diligence work on ssl international for a corporate client an spokesman for ssl which makes the famous durex brand of condom would not to comment on market speculation however the news sent shares in ssl which also makes scholl footwear up more than 6% or 1675 pence to 2935p  the ft said most the high-profile firm that might woo ssl was anglo-dutch household products group reckitt benckiser eighteen months ago reckitt benckiser was at the centre of a rumoured takeover bid for ssl - but that came to nothing other firms that have been seen as would-be suitors include kimberly-clark johnson & johnson and private equity investors analysts have seen ssl as a takeover target for years it sold off its surgical gloves and antiseptics businesses for \\u00a3173m to a management team in may ssl was formed by a three-way merger between seton healthcare footwear specialists scholl and condom-maker london international group its other brands include syndol analgesic meltus cough medicine sauber compression hosiery and deodorant products and mister baby \"\n        ],\n        \"semantic_type\": \"\",\n        \"description\": \"\"\n      }\n    },\n    {\n      \"column\": \"Content_Parsed_5\",\n      \"properties\": {\n        \"dtype\": \"string\",\n        \"num_unique_values\": 2124,\n        \"samples\": [\n          \"lufthansa may sue over bush visit  german airline lufthansa may sue federal agencies for damage after the arrival of us president george w bush disrupt flight  lufthansa say that it may lose millions of euros as a result of air force one land at frankfurt airport flight be affect for an hour on wednesday morning double the time that have be expect lead to cancellations and delay lufthansa account for six out of every 10 plan use frankfurt airport  we be do research into the possibilities we have michael lamberty a lufthansa spokesman tell the bbc we be check if there be action to be take and in which court it could be take mr lamberty explain that the company do not plan to pursue germany air traffic controllers' organisation or the airport authority but want instead to see if it be possible to sue the german federal agencies that give the order the company say that it have to cancel 77 short and medium-distance flight affect about 5000 passengers long-haul travellers be not disrupt  central to the problem be that instead of half an hour the arrival of president bush on the german leg of his european tour take the best part of an hour lufthansa say during that time restrictions be put on plan taxi take off and land at frankfurt rhein-main airport the extra time take by president bush and his entourage mean that there be a knock-on effect that lead to significant delay mr lamberty say that 92 outgo flight and 86 income flight be delay by an average of an hour follow president bush arrival affect almost 17000 passengers despite the problems mr lamberty say that it be not certain that lufthansa would take legal action \"\n        ],\n        \"semantic_type\": \"\",\n        \"description\": \"\"\n      }\n    },\n    {\n      \"column\": \"Content_Parsed_6\",\n      \"properties\": {\n        \"dtype\": \"string\",\n        \"num_unique_values\": 2123,\n        \"samples\": [\n          \"spider-man creator win profit  spider-man creator stan lee   get  multi-million dollar windfall  win  court battle  comic book company marvel   judge  uphold lee demand  10%  marvel profit   hugely successful spider-man film spider-man   sequel make $16bn (\\u00a3857m)  box offices worldwide   cut  due  lee 82  create spider-man  1962  lawyer say  could  tens  millions  dollars   exaggeration us district court judge robert w sweet rule lee  get  tenth  profit generate since november 1998  marvel tv  movie productions involve  company character lee take legal action  2002 say marvel shut    jackpot profit   first blockbuster film   say  company -   work    60 years -  go back  agreement  give   10%  well  spider-man lee co-created  incredible hulk x-men daredevil  fantastic four character  say   gratify   judge decision although since   deeply fond  marvel   people   sincerely regret   situation   come    rule also mean   entitle   slice  profit  dvd sales  certain merchandise marvel say  would appeal    expect  decision  impact  financial forecast  2004  beyond  new york court   rule  lee claim   share  profit   spider-man  hulk movie merchandise    decide   future trial marvel say \"\n        ],\n        \"semantic_type\": \"\",\n        \"description\": \"\"\n      }\n    }\n  ]\n}",
              "type": "dataframe",
              "variable_name": "df"
            },
            "text/html": [
              "\n",
              "  <div id=\"df-faac1201-f4eb-4f04-a199-72ea085b6279\" class=\"colab-df-container\">\n",
              "    <div>\n",
              "<style scoped>\n",
              "    .dataframe tbody tr th:only-of-type {\n",
              "        vertical-align: middle;\n",
              "    }\n",
              "\n",
              "    .dataframe tbody tr th {\n",
              "        vertical-align: top;\n",
              "    }\n",
              "\n",
              "    .dataframe thead th {\n",
              "        text-align: right;\n",
              "    }\n",
              "</style>\n",
              "<table border=\"1\" class=\"dataframe\">\n",
              "  <thead>\n",
              "    <tr style=\"text-align: right;\">\n",
              "      <th></th>\n",
              "      <th>File_Name</th>\n",
              "      <th>Content</th>\n",
              "      <th>Category</th>\n",
              "      <th>Complete_Filename</th>\n",
              "      <th>News_length</th>\n",
              "      <th>id</th>\n",
              "      <th>Content_Parsed_1</th>\n",
              "      <th>Content_Parsed_2</th>\n",
              "      <th>Content_Parsed_3</th>\n",
              "      <th>Content_Parsed_4</th>\n",
              "      <th>Content_Parsed_5</th>\n",
              "      <th>Content_Parsed_6</th>\n",
              "    </tr>\n",
              "  </thead>\n",
              "  <tbody>\n",
              "    <tr>\n",
              "      <th>0</th>\n",
              "      <td>027.txt</td>\n",
              "      <td>Steel firm 'to cut' 45,000 jobs\\n\\nMittal Stee...</td>\n",
              "      <td>business</td>\n",
              "      <td>027.txt-business</td>\n",
              "      <td>1619</td>\n",
              "      <td>1</td>\n",
              "      <td>Steel firm 'to cut' 45,000 jobs  Mittal Steel,...</td>\n",
              "      <td>steel firm 'to cut' 45,000 jobs  mittal steel,...</td>\n",
              "      <td>steel firm 'to cut' 45000 jobs  mittal steel o...</td>\n",
              "      <td>steel firm 'to cut' 45000 jobs  mittal steel o...</td>\n",
              "      <td>steel firm 'to cut' 45000 job  mittal steel on...</td>\n",
              "      <td>steel firm ' cut' 45000 job  mittal steel one ...</td>\n",
              "    </tr>\n",
              "  </tbody>\n",
              "</table>\n",
              "</div>\n",
              "    <div class=\"colab-df-buttons\">\n",
              "\n",
              "  <div class=\"colab-df-container\">\n",
              "    <button class=\"colab-df-convert\" onclick=\"convertToInteractive('df-faac1201-f4eb-4f04-a199-72ea085b6279')\"\n",
              "            title=\"Convert this dataframe to an interactive table.\"\n",
              "            style=\"display:none;\">\n",
              "\n",
              "  <svg xmlns=\"http://www.w3.org/2000/svg\" height=\"24px\" viewBox=\"0 -960 960 960\">\n",
              "    <path d=\"M120-120v-720h720v720H120Zm60-500h600v-160H180v160Zm220 220h160v-160H400v160Zm0 220h160v-160H400v160ZM180-400h160v-160H180v160Zm440 0h160v-160H620v160ZM180-180h160v-160H180v160Zm440 0h160v-160H620v160Z\"/>\n",
              "  </svg>\n",
              "    </button>\n",
              "\n",
              "  <style>\n",
              "    .colab-df-container {\n",
              "      display:flex;\n",
              "      gap: 12px;\n",
              "    }\n",
              "\n",
              "    .colab-df-convert {\n",
              "      background-color: #E8F0FE;\n",
              "      border: none;\n",
              "      border-radius: 50%;\n",
              "      cursor: pointer;\n",
              "      display: none;\n",
              "      fill: #1967D2;\n",
              "      height: 32px;\n",
              "      padding: 0 0 0 0;\n",
              "      width: 32px;\n",
              "    }\n",
              "\n",
              "    .colab-df-convert:hover {\n",
              "      background-color: #E2EBFA;\n",
              "      box-shadow: 0px 1px 2px rgba(60, 64, 67, 0.3), 0px 1px 3px 1px rgba(60, 64, 67, 0.15);\n",
              "      fill: #174EA6;\n",
              "    }\n",
              "\n",
              "    .colab-df-buttons div {\n",
              "      margin-bottom: 4px;\n",
              "    }\n",
              "\n",
              "    [theme=dark] .colab-df-convert {\n",
              "      background-color: #3B4455;\n",
              "      fill: #D2E3FC;\n",
              "    }\n",
              "\n",
              "    [theme=dark] .colab-df-convert:hover {\n",
              "      background-color: #434B5C;\n",
              "      box-shadow: 0px 1px 3px 1px rgba(0, 0, 0, 0.15);\n",
              "      filter: drop-shadow(0px 1px 2px rgba(0, 0, 0, 0.3));\n",
              "      fill: #FFFFFF;\n",
              "    }\n",
              "  </style>\n",
              "\n",
              "    <script>\n",
              "      const buttonEl =\n",
              "        document.querySelector('#df-faac1201-f4eb-4f04-a199-72ea085b6279 button.colab-df-convert');\n",
              "      buttonEl.style.display =\n",
              "        google.colab.kernel.accessAllowed ? 'block' : 'none';\n",
              "\n",
              "      async function convertToInteractive(key) {\n",
              "        const element = document.querySelector('#df-faac1201-f4eb-4f04-a199-72ea085b6279');\n",
              "        const dataTable =\n",
              "          await google.colab.kernel.invokeFunction('convertToInteractive',\n",
              "                                                    [key], {});\n",
              "        if (!dataTable) return;\n",
              "\n",
              "        const docLinkHtml = 'Like what you see? Visit the ' +\n",
              "          '<a target=\"_blank\" href=https://colab.research.google.com/notebooks/data_table.ipynb>data table notebook</a>'\n",
              "          + ' to learn more about interactive tables.';\n",
              "        element.innerHTML = '';\n",
              "        dataTable['output_type'] = 'display_data';\n",
              "        await google.colab.output.renderOutput(dataTable, element);\n",
              "        const docLink = document.createElement('div');\n",
              "        docLink.innerHTML = docLinkHtml;\n",
              "        element.appendChild(docLink);\n",
              "      }\n",
              "    </script>\n",
              "  </div>\n",
              "\n",
              "\n",
              "    </div>\n",
              "  </div>\n"
            ],
            "text/plain": [
              "  File_Name                                            Content  Category  \\\n",
              "0   027.txt  Steel firm 'to cut' 45,000 jobs\\n\\nMittal Stee...  business   \n",
              "\n",
              "  Complete_Filename  News_length  id  \\\n",
              "0  027.txt-business         1619   1   \n",
              "\n",
              "                                    Content_Parsed_1  \\\n",
              "0  Steel firm 'to cut' 45,000 jobs  Mittal Steel,...   \n",
              "\n",
              "                                    Content_Parsed_2  \\\n",
              "0  steel firm 'to cut' 45,000 jobs  mittal steel,...   \n",
              "\n",
              "                                    Content_Parsed_3  \\\n",
              "0  steel firm 'to cut' 45000 jobs  mittal steel o...   \n",
              "\n",
              "                                    Content_Parsed_4  \\\n",
              "0  steel firm 'to cut' 45000 jobs  mittal steel o...   \n",
              "\n",
              "                                    Content_Parsed_5  \\\n",
              "0  steel firm 'to cut' 45000 job  mittal steel on...   \n",
              "\n",
              "                                    Content_Parsed_6  \n",
              "0  steel firm ' cut' 45000 job  mittal steel one ...  "
            ]
          },
          "execution_count": 115,
          "metadata": {},
          "output_type": "execute_result"
        }
      ],
      "source": [
        "df.head(1)"
      ]
    },
    {
      "cell_type": "code",
      "execution_count": null,
      "metadata": {
        "id": "kRh29qXlpADW"
      },
      "outputs": [],
      "source": [
        "list_columns = [\"File_Name\", \"Category\", \"Complete_Filename\", \"Content\", \"Content_Parsed_6\"]\n",
        "df = df[list_columns]\n",
        "\n",
        "df = df.rename(columns={'Content_Parsed_6': 'Content_Parsed'})"
      ]
    },
    {
      "cell_type": "code",
      "execution_count": null,
      "metadata": {
        "colab": {
          "base_uri": "https://localhost:8080/",
          "height": 206
        },
        "id": "dWJTkZy2pBYT",
        "outputId": "295df7c9-8f25-4724-c908-55dc5fa4359d"
      },
      "outputs": [
        {
          "data": {
            "application/vnd.google.colaboratory.intrinsic+json": {
              "summary": "{\n  \"name\": \"df\",\n  \"rows\": 2225,\n  \"fields\": [\n    {\n      \"column\": \"File_Name\",\n      \"properties\": {\n        \"dtype\": \"category\",\n        \"num_unique_values\": 511,\n        \"samples\": [\n          \"103.txt\",\n          \"033.txt\",\n          \"402.txt\"\n        ],\n        \"semantic_type\": \"\",\n        \"description\": \"\"\n      }\n    },\n    {\n      \"column\": \"Category\",\n      \"properties\": {\n        \"dtype\": \"category\",\n        \"num_unique_values\": 5,\n        \"samples\": [\n          \"entertainment\",\n          \"tech\",\n          \"politics\"\n        ],\n        \"semantic_type\": \"\",\n        \"description\": \"\"\n      }\n    },\n    {\n      \"column\": \"Complete_Filename\",\n      \"properties\": {\n        \"dtype\": \"string\",\n        \"num_unique_values\": 2225,\n        \"samples\": [\n          \"427.txt-business\",\n          \"416.txt-business\",\n          \"407.txt-sport\"\n        ],\n        \"semantic_type\": \"\",\n        \"description\": \"\"\n      }\n    },\n    {\n      \"column\": \"Content\",\n      \"properties\": {\n        \"dtype\": \"string\",\n        \"num_unique_values\": 2127,\n        \"samples\": [\n          \"Durex maker SSL awaits firm bid\\n\\nUK condom maker SSL International has refused to comment on reports it may be subject to a takeover early in 2005.\\n\\nA Financial Times report said business intelligence firm GPW was understood to be starting due diligence work on SSL International, for a corporate client. An spokesman for SSL, which makes the famous Durex brand of condom, would not to comment on \\\"market speculation\\\". However the news sent shares in SSL, which also makes Scholl footwear, up more than 6%, or 16.75 pence to 293.5p.\\n\\nThe FT said most the high-profile firm that might woo SSL was Anglo-Dutch household products group Reckitt Benckiser. Eighteen months ago Reckitt Benckiser was at the centre of a rumoured takeover bid for SSL - but that came to nothing. Other firms that have been seen as would-be suitors include Kimberly-Clark, Johnson & Johnson, and private equity investors. Analysts have seen SSL as a takeover target for years. It sold off its surgical gloves and antiseptics businesses for \\u00a3173m to a management team in May. SSL was formed by a three-way merger between Seton Healthcare, footwear specialists Scholl and condom-maker London International Group. Its other brands include Syndol analgesic, Meltus cough medicine, Sauber compression hosiery and deodorant products, and Mister Baby.\\n\",\n          \"Half of UK's mobiles 'go online'\\n\\nMultimedia mobile phones are finally showing signs of taking off, with more Britons using them to go online.\\n\\nFigures from industry monitor, the Mobile Data Association (MDA), show the number of phones with GPRS and MMS technology has doubled since last year. GPRS lets people browse the web, access news services, mobile music and other applications like mobile chat. By the end of 2005, the MDA predicts that 75% of all mobiles in the UK will be able to access the net via GPRS. The MDA say the figures for the three months up to 30 September are a \\\"rapid increase\\\" on the figure for the same time the previous year. About 53 million people own a mobile in the UK, so the figures mean that half of those phones use GPRS. GPRS is often described as 2.5G technology - 2.5 generation - sitting between 2G and 3G technology, which is like a fast, high-quality broadband internet for phones.\\n\\nWith more services being offered by mobile operators, people are finding more reasons to go online via their mobile. Downloadable ringtones are still proving highly popular, but so is mobile chat. BandAid was the fastest ever-selling ringtone this year, according to the MDA, and chat was given some publicity when Prime Minister Tony Blair answered questions through mobile text chat. Multimedia messaging services also looked brighter with 32% of all mobiles in the UK able to send or receive picture messages. This is a 14% rise from last September's figures. But a recent report from Continental Research reflects the continuing battle mobile companies have to actually persuade people to go online and to use MMS. It said that 36% of UK camera phone users had never sent a multimedia message, or MMS. That was 7% more than in 2003. Mobile companies are keen for people to use multimedia functions their phones, like sending MMS and going online, as this generates more money for them. But critics say that MMS is confusing and some mobiles are too difficult to use. There have also been some issues over interoperability, and being able to send MMS form a mobile using one network to a different one.\\n\",\n          \"Slovakia seal Hopman Cup success\\n\\nSlovakia clinched the Hopman Cup for the second time by beating Argentina 3-0 in Saturday's final in Perth.\\n\\nDaniela Hantuchova put the third seeds ahead, recovering from a terrible start to beat Gisela Dulko 1-6 6-4 6-4. Dominik Hrbaty, who had not lost a set in his three singles matches in the group stages, then upset world number seven Guillermo Coria 6-4 6-1. Hantuchova and Hrbaty then won the mixed doubles after Coria was forced to withdraw because of a sore back. Slovakia's win made up for last year's final defeat to the United States. \\\"I would like to congratulate Daniela,\\\" Hrbaty said. \\\"I was so nervous watching her today, I almost had a heart attack. \\\"I also feel a little sorry for Guillermo because I get very excited whenever I play for my country. I show lots of emotions and played such good tennis.\\\"\\n\\nWorld number 31 Hantuchova, ranked two places above Dulko, looked nervous as she dropped the first four games of the match. Dulko, who had lost all three of her singles matches in the group stages, grew in confidence and took the opening set in just 27 minutes. But Hantuchova hit back to take the next two and the match. \\\"I was so nervous because I really wanted to win for the team and for Dominik as he played so well all week,\\\" she said. \\\"I didn't think I was playing my best but I just tried to hang in there and fight hard for every point for my country.\\\" Slovakia won the Cup on their first appearance in 1998 when Karol Kucera and Karina Habsudova beat France.\\n\"\n        ],\n        \"semantic_type\": \"\",\n        \"description\": \"\"\n      }\n    },\n    {\n      \"column\": \"Content_Parsed\",\n      \"properties\": {\n        \"dtype\": \"string\",\n        \"num_unique_values\": 2123,\n        \"samples\": [\n          \"spider-man creator win profit  spider-man creator stan lee   get  multi-million dollar windfall  win  court battle  comic book company marvel   judge  uphold lee demand  10%  marvel profit   hugely successful spider-man film spider-man   sequel make $16bn (\\u00a3857m)  box offices worldwide   cut  due  lee 82  create spider-man  1962  lawyer say  could  tens  millions  dollars   exaggeration us district court judge robert w sweet rule lee  get  tenth  profit generate since november 1998  marvel tv  movie productions involve  company character lee take legal action  2002 say marvel shut    jackpot profit   first blockbuster film   say  company -   work    60 years -  go back  agreement  give   10%  well  spider-man lee co-created  incredible hulk x-men daredevil  fantastic four character  say   gratify   judge decision although since   deeply fond  marvel   people   sincerely regret   situation   come    rule also mean   entitle   slice  profit  dvd sales  certain merchandise marvel say  would appeal    expect  decision  impact  financial forecast  2004  beyond  new york court   rule  lee claim   share  profit   spider-man  hulk movie merchandise    decide   future trial marvel say \",\n          \" force  strong  battlefront   warm reception   greet star war battlefront   reflection    ingenious innovation   gameplay    back--basics approach  immense nostalgia quotient  gear towards online gamers   base around little    series  - gunfights set   array  locations  feature   hint    two blockbusting film trilogies previous star war title like  acclaim knight   old republic  jedi knight  regularly impress   imaginative foray   far corner   franchise extensive universe   use  weird  wonderful new character battlefront    hand wholeheartedly revisit   recognisable elements   hit movies    sight sound  protagonists  show     instantly familiar  fan  may well feel   opportunity  relive star wars'  memorable screen skirmish make   game   always wait   mayhem   view  either  third  first-person perspective    either fight   force  freedom  join darth vader   dark side depend   episode  type  campaign  well   player personal propensity  good  evil    ample chance    wookie shoot ewoks  rush  battle alongside  fired- luke skywalker   section  task  simply  wipe  enemy troop seize strategic waypoints  move    next planet  really    complicate   locations include  freeze waste  hoth  ice planet   empire strike back complete  massive mechanical -ats   march   also  dusty sinister desert  tatooine  geonosis  well   forest moon  endor  return   jedi much-maligned ewoks live  feel   place  well  truly capture   backdrops  character look good   authentic   worth note though    playstation 2  game graphics   curiously long way behind    xbox version  pivotal element behind battlefront success    successfully give   feel     plunge   midst  large-scale war  number  combatants noise  abundance  laser fire see     sense  chaos really come   speak  noise battlefront   real testament   strength   star war galaxy audio motifs   multitude  distinctive weapon  vehicle noise  immensely familiar    stir john williams symphonies  never let    also  particularly snazzy remix  one   theme   menu section     say   game     boon   star war  would  stand   long  gameplay  reliable bog-standard stuff short  originality   also odd annoyances like  game insistence  -spawning  miles away   action  irritate price  pay   get blow   second  appear     weapons  vehicles    responsive  fluid  operate   might   say   still great fun  pilot  scout walker  speeder bike however non user-friendly  prove whilst   firmly design  multiplayer action  mind battlefront  actually perfectly good fun   offline game  -average ai   enemy see   although give  frenetic environments  operate   strategic behaviour   need     sophisticate battlefront novelty value  doubtless wear  relatively fast leave behind  slightly empty one-trick-pony   game        absolute blast  one    immediately satisfy video game offer yet  george lucas' stable \",\n          \"henson stake early lions claim   six nations may   glitter prize    every player   four home unions  also  one eye   possible trip  new zealand   lions  summer   player  stake  biggest claim   place   start xv   weekend  gavin henson   confident     listen   interview afterwards -  beam  confidence -  although   element  arrogance  good arrogance  certainly show  nice touch   show  clean pair  heel  mathew tait   get outside   defence   good   make  great kick   hand   without even mention  majestic match-winning penalty   think  need  wait  see  happen   need   put   test  need  come   brian 'driscoll   big french midfield wales fly-half stephen jones  another player  impress   give good direction    confident     nice general   side  show   control  game  jonny wilkinson  play   moment due  inury  number 10 shirt could    grab  jones  maybe even henson could make  lions team  fly-half  jones stick  hand    certainly look  better bet  charlie hodgson  saturday game    wales forward surprise    think  would  -muscled   tight five england prop julian white   capable player    come   selection gethin jenkins   go    upper hand   come   top however  still think white  phil vickery     frame  english players   cause  harm  think joe worsley   solid game  jason robinson  josh lewsey   nothing wrong   look  soon  young mathew tait   think        see   despite  write  beforehand several scots catch  eye  france  tom smith          like  chris cusiter jason white  ally hogg  make  mark hogg make  couple  good run  white   pretty robust game -  defence  right   cusiter look  lively   could    good option  lions coach sir clive woodward  star  ireland win  italy  rome look like  certainty  make  start xv  new zealand brian 'driscoll   class act  run  good line  italy make  break  feed  outside back although italy defend man  man  make  easy   gordon 'arcy  unlucky  go  injure early    think  could get  henson 'arcy 'driscoll combination   lions midfield paul 'connell  need  add  hard edge   game  malcolm 'kelly keep  go  seem   put  hand   shane byrne seem    lively character      bite worry   italian pack drive     ball  sunday although  use  play  italy   know  difficult    one player  ' impress   wales scrum-half dwayne peel  choke late    second half  wales  trail   good possession   kick  ball away -  ' want    lions scrum-half   \"\n        ],\n        \"semantic_type\": \"\",\n        \"description\": \"\"\n      }\n    }\n  ]\n}",
              "type": "dataframe",
              "variable_name": "df"
            },
            "text/html": [
              "\n",
              "  <div id=\"df-4e41c755-0a1d-464b-9bb9-4271eebe66ae\" class=\"colab-df-container\">\n",
              "    <div>\n",
              "<style scoped>\n",
              "    .dataframe tbody tr th:only-of-type {\n",
              "        vertical-align: middle;\n",
              "    }\n",
              "\n",
              "    .dataframe tbody tr th {\n",
              "        vertical-align: top;\n",
              "    }\n",
              "\n",
              "    .dataframe thead th {\n",
              "        text-align: right;\n",
              "    }\n",
              "</style>\n",
              "<table border=\"1\" class=\"dataframe\">\n",
              "  <thead>\n",
              "    <tr style=\"text-align: right;\">\n",
              "      <th></th>\n",
              "      <th>File_Name</th>\n",
              "      <th>Category</th>\n",
              "      <th>Complete_Filename</th>\n",
              "      <th>Content</th>\n",
              "      <th>Content_Parsed</th>\n",
              "    </tr>\n",
              "  </thead>\n",
              "  <tbody>\n",
              "    <tr>\n",
              "      <th>0</th>\n",
              "      <td>027.txt</td>\n",
              "      <td>business</td>\n",
              "      <td>027.txt-business</td>\n",
              "      <td>Steel firm 'to cut' 45,000 jobs\\n\\nMittal Stee...</td>\n",
              "      <td>steel firm ' cut' 45000 job  mittal steel one ...</td>\n",
              "    </tr>\n",
              "    <tr>\n",
              "      <th>1</th>\n",
              "      <td>024.txt</td>\n",
              "      <td>business</td>\n",
              "      <td>024.txt-business</td>\n",
              "      <td>US trade gap hits record in 2004\\n\\nThe gap be...</td>\n",
              "      <td>us trade gap hit record  2004   gap  us export...</td>\n",
              "    </tr>\n",
              "    <tr>\n",
              "      <th>2</th>\n",
              "      <td>020.txt</td>\n",
              "      <td>business</td>\n",
              "      <td>020.txt-business</td>\n",
              "      <td>Call centre users 'lose patience'\\n\\nCustomers...</td>\n",
              "      <td>call centre users 'lose patience'  customers t...</td>\n",
              "    </tr>\n",
              "    <tr>\n",
              "      <th>3</th>\n",
              "      <td>019.txt</td>\n",
              "      <td>business</td>\n",
              "      <td>019.txt-business</td>\n",
              "      <td>India widens access to telecoms\\n\\nIndia has r...</td>\n",
              "      <td>india widen access  telecoms  india  raise  li...</td>\n",
              "    </tr>\n",
              "    <tr>\n",
              "      <th>4</th>\n",
              "      <td>023.txt</td>\n",
              "      <td>business</td>\n",
              "      <td>023.txt-business</td>\n",
              "      <td>Mixed signals from French economy\\n\\nThe Frenc...</td>\n",
              "      <td>mix signal  french economy   french economy pi...</td>\n",
              "    </tr>\n",
              "  </tbody>\n",
              "</table>\n",
              "</div>\n",
              "    <div class=\"colab-df-buttons\">\n",
              "\n",
              "  <div class=\"colab-df-container\">\n",
              "    <button class=\"colab-df-convert\" onclick=\"convertToInteractive('df-4e41c755-0a1d-464b-9bb9-4271eebe66ae')\"\n",
              "            title=\"Convert this dataframe to an interactive table.\"\n",
              "            style=\"display:none;\">\n",
              "\n",
              "  <svg xmlns=\"http://www.w3.org/2000/svg\" height=\"24px\" viewBox=\"0 -960 960 960\">\n",
              "    <path d=\"M120-120v-720h720v720H120Zm60-500h600v-160H180v160Zm220 220h160v-160H400v160Zm0 220h160v-160H400v160ZM180-400h160v-160H180v160Zm440 0h160v-160H620v160ZM180-180h160v-160H180v160Zm440 0h160v-160H620v160Z\"/>\n",
              "  </svg>\n",
              "    </button>\n",
              "\n",
              "  <style>\n",
              "    .colab-df-container {\n",
              "      display:flex;\n",
              "      gap: 12px;\n",
              "    }\n",
              "\n",
              "    .colab-df-convert {\n",
              "      background-color: #E8F0FE;\n",
              "      border: none;\n",
              "      border-radius: 50%;\n",
              "      cursor: pointer;\n",
              "      display: none;\n",
              "      fill: #1967D2;\n",
              "      height: 32px;\n",
              "      padding: 0 0 0 0;\n",
              "      width: 32px;\n",
              "    }\n",
              "\n",
              "    .colab-df-convert:hover {\n",
              "      background-color: #E2EBFA;\n",
              "      box-shadow: 0px 1px 2px rgba(60, 64, 67, 0.3), 0px 1px 3px 1px rgba(60, 64, 67, 0.15);\n",
              "      fill: #174EA6;\n",
              "    }\n",
              "\n",
              "    .colab-df-buttons div {\n",
              "      margin-bottom: 4px;\n",
              "    }\n",
              "\n",
              "    [theme=dark] .colab-df-convert {\n",
              "      background-color: #3B4455;\n",
              "      fill: #D2E3FC;\n",
              "    }\n",
              "\n",
              "    [theme=dark] .colab-df-convert:hover {\n",
              "      background-color: #434B5C;\n",
              "      box-shadow: 0px 1px 3px 1px rgba(0, 0, 0, 0.15);\n",
              "      filter: drop-shadow(0px 1px 2px rgba(0, 0, 0, 0.3));\n",
              "      fill: #FFFFFF;\n",
              "    }\n",
              "  </style>\n",
              "\n",
              "    <script>\n",
              "      const buttonEl =\n",
              "        document.querySelector('#df-4e41c755-0a1d-464b-9bb9-4271eebe66ae button.colab-df-convert');\n",
              "      buttonEl.style.display =\n",
              "        google.colab.kernel.accessAllowed ? 'block' : 'none';\n",
              "\n",
              "      async function convertToInteractive(key) {\n",
              "        const element = document.querySelector('#df-4e41c755-0a1d-464b-9bb9-4271eebe66ae');\n",
              "        const dataTable =\n",
              "          await google.colab.kernel.invokeFunction('convertToInteractive',\n",
              "                                                    [key], {});\n",
              "        if (!dataTable) return;\n",
              "\n",
              "        const docLinkHtml = 'Like what you see? Visit the ' +\n",
              "          '<a target=\"_blank\" href=https://colab.research.google.com/notebooks/data_table.ipynb>data table notebook</a>'\n",
              "          + ' to learn more about interactive tables.';\n",
              "        element.innerHTML = '';\n",
              "        dataTable['output_type'] = 'display_data';\n",
              "        await google.colab.output.renderOutput(dataTable, element);\n",
              "        const docLink = document.createElement('div');\n",
              "        docLink.innerHTML = docLinkHtml;\n",
              "        element.appendChild(docLink);\n",
              "      }\n",
              "    </script>\n",
              "  </div>\n",
              "\n",
              "\n",
              "<div id=\"df-93bf46db-ffe2-4bfd-ab73-22355182a77e\">\n",
              "  <button class=\"colab-df-quickchart\" onclick=\"quickchart('df-93bf46db-ffe2-4bfd-ab73-22355182a77e')\"\n",
              "            title=\"Suggest charts\"\n",
              "            style=\"display:none;\">\n",
              "\n",
              "<svg xmlns=\"http://www.w3.org/2000/svg\" height=\"24px\"viewBox=\"0 0 24 24\"\n",
              "     width=\"24px\">\n",
              "    <g>\n",
              "        <path d=\"M19 3H5c-1.1 0-2 .9-2 2v14c0 1.1.9 2 2 2h14c1.1 0 2-.9 2-2V5c0-1.1-.9-2-2-2zM9 17H7v-7h2v7zm4 0h-2V7h2v10zm4 0h-2v-4h2v4z\"/>\n",
              "    </g>\n",
              "</svg>\n",
              "  </button>\n",
              "\n",
              "<style>\n",
              "  .colab-df-quickchart {\n",
              "      --bg-color: #E8F0FE;\n",
              "      --fill-color: #1967D2;\n",
              "      --hover-bg-color: #E2EBFA;\n",
              "      --hover-fill-color: #174EA6;\n",
              "      --disabled-fill-color: #AAA;\n",
              "      --disabled-bg-color: #DDD;\n",
              "  }\n",
              "\n",
              "  [theme=dark] .colab-df-quickchart {\n",
              "      --bg-color: #3B4455;\n",
              "      --fill-color: #D2E3FC;\n",
              "      --hover-bg-color: #434B5C;\n",
              "      --hover-fill-color: #FFFFFF;\n",
              "      --disabled-bg-color: #3B4455;\n",
              "      --disabled-fill-color: #666;\n",
              "  }\n",
              "\n",
              "  .colab-df-quickchart {\n",
              "    background-color: var(--bg-color);\n",
              "    border: none;\n",
              "    border-radius: 50%;\n",
              "    cursor: pointer;\n",
              "    display: none;\n",
              "    fill: var(--fill-color);\n",
              "    height: 32px;\n",
              "    padding: 0;\n",
              "    width: 32px;\n",
              "  }\n",
              "\n",
              "  .colab-df-quickchart:hover {\n",
              "    background-color: var(--hover-bg-color);\n",
              "    box-shadow: 0 1px 2px rgba(60, 64, 67, 0.3), 0 1px 3px 1px rgba(60, 64, 67, 0.15);\n",
              "    fill: var(--button-hover-fill-color);\n",
              "  }\n",
              "\n",
              "  .colab-df-quickchart-complete:disabled,\n",
              "  .colab-df-quickchart-complete:disabled:hover {\n",
              "    background-color: var(--disabled-bg-color);\n",
              "    fill: var(--disabled-fill-color);\n",
              "    box-shadow: none;\n",
              "  }\n",
              "\n",
              "  .colab-df-spinner {\n",
              "    border: 2px solid var(--fill-color);\n",
              "    border-color: transparent;\n",
              "    border-bottom-color: var(--fill-color);\n",
              "    animation:\n",
              "      spin 1s steps(1) infinite;\n",
              "  }\n",
              "\n",
              "  @keyframes spin {\n",
              "    0% {\n",
              "      border-color: transparent;\n",
              "      border-bottom-color: var(--fill-color);\n",
              "      border-left-color: var(--fill-color);\n",
              "    }\n",
              "    20% {\n",
              "      border-color: transparent;\n",
              "      border-left-color: var(--fill-color);\n",
              "      border-top-color: var(--fill-color);\n",
              "    }\n",
              "    30% {\n",
              "      border-color: transparent;\n",
              "      border-left-color: var(--fill-color);\n",
              "      border-top-color: var(--fill-color);\n",
              "      border-right-color: var(--fill-color);\n",
              "    }\n",
              "    40% {\n",
              "      border-color: transparent;\n",
              "      border-right-color: var(--fill-color);\n",
              "      border-top-color: var(--fill-color);\n",
              "    }\n",
              "    60% {\n",
              "      border-color: transparent;\n",
              "      border-right-color: var(--fill-color);\n",
              "    }\n",
              "    80% {\n",
              "      border-color: transparent;\n",
              "      border-right-color: var(--fill-color);\n",
              "      border-bottom-color: var(--fill-color);\n",
              "    }\n",
              "    90% {\n",
              "      border-color: transparent;\n",
              "      border-bottom-color: var(--fill-color);\n",
              "    }\n",
              "  }\n",
              "</style>\n",
              "\n",
              "  <script>\n",
              "    async function quickchart(key) {\n",
              "      const quickchartButtonEl =\n",
              "        document.querySelector('#' + key + ' button');\n",
              "      quickchartButtonEl.disabled = true;  // To prevent multiple clicks.\n",
              "      quickchartButtonEl.classList.add('colab-df-spinner');\n",
              "      try {\n",
              "        const charts = await google.colab.kernel.invokeFunction(\n",
              "            'suggestCharts', [key], {});\n",
              "      } catch (error) {\n",
              "        console.error('Error during call to suggestCharts:', error);\n",
              "      }\n",
              "      quickchartButtonEl.classList.remove('colab-df-spinner');\n",
              "      quickchartButtonEl.classList.add('colab-df-quickchart-complete');\n",
              "    }\n",
              "    (() => {\n",
              "      let quickchartButtonEl =\n",
              "        document.querySelector('#df-93bf46db-ffe2-4bfd-ab73-22355182a77e button');\n",
              "      quickchartButtonEl.style.display =\n",
              "        google.colab.kernel.accessAllowed ? 'block' : 'none';\n",
              "    })();\n",
              "  </script>\n",
              "</div>\n",
              "\n",
              "    </div>\n",
              "  </div>\n"
            ],
            "text/plain": [
              "  File_Name  Category Complete_Filename  \\\n",
              "0   027.txt  business  027.txt-business   \n",
              "1   024.txt  business  024.txt-business   \n",
              "2   020.txt  business  020.txt-business   \n",
              "3   019.txt  business  019.txt-business   \n",
              "4   023.txt  business  023.txt-business   \n",
              "\n",
              "                                             Content  \\\n",
              "0  Steel firm 'to cut' 45,000 jobs\\n\\nMittal Stee...   \n",
              "1  US trade gap hits record in 2004\\n\\nThe gap be...   \n",
              "2  Call centre users 'lose patience'\\n\\nCustomers...   \n",
              "3  India widens access to telecoms\\n\\nIndia has r...   \n",
              "4  Mixed signals from French economy\\n\\nThe Frenc...   \n",
              "\n",
              "                                      Content_Parsed  \n",
              "0  steel firm ' cut' 45000 job  mittal steel one ...  \n",
              "1  us trade gap hit record  2004   gap  us export...  \n",
              "2  call centre users 'lose patience'  customers t...  \n",
              "3  india widen access  telecoms  india  raise  li...  \n",
              "4  mix signal  french economy   french economy pi...  "
            ]
          },
          "execution_count": 117,
          "metadata": {},
          "output_type": "execute_result"
        }
      ],
      "source": [
        "df.head()"
      ]
    },
    {
      "cell_type": "code",
      "execution_count": null,
      "metadata": {
        "id": "f3jTSfS7pIi7"
      },
      "outputs": [],
      "source": [
        "category_codes = {\n",
        "    'business': 0,\n",
        "    'entertainment': 1,\n",
        "    'politics': 2,\n",
        "    'sport': 3,\n",
        "    'tech': 4\n",
        "}\n",
        "\n",
        "# Category mapping\n",
        "df['Category_Code'] = df['Category']\n",
        "df = df.replace({'Category_Code':category_codes})\n",
        "\n",
        "# df.tail()"
      ]
    },
    {
      "cell_type": "code",
      "execution_count": null,
      "metadata": {
        "id": "8d5y-73KpURc"
      },
      "outputs": [],
      "source": [
        "X_train, X_test, y_train, y_test = train_test_split(df['Content_Parsed'],\n",
        "                                                    df['Category_Code'],\n",
        "                                                    test_size=0.15,\n",
        "                                                    random_state=8)"
      ]
    },
    {
      "cell_type": "code",
      "execution_count": null,
      "metadata": {
        "colab": {
          "base_uri": "https://localhost:8080/"
        },
        "id": "tKT8wRY8tJjN",
        "outputId": "8017488e-10fa-450f-a2dc-2809c25ef011"
      },
      "outputs": [
        {
          "name": "stdout",
          "output_type": "stream",
          "text": [
            "(1891, 300)\n",
            "(334, 300)\n"
          ]
        }
      ],
      "source": [
        "# Parameter election\n",
        "ngram_range = (1,2)\n",
        "min_df = 10\n",
        "max_df = 1.\n",
        "max_features = 300\n",
        "\n",
        "\n",
        "\n",
        "tfidf = TfidfVectorizer(encoding='utf-8',\n",
        "                        ngram_range=ngram_range,\n",
        "                        stop_words=None,\n",
        "                        lowercase=False,\n",
        "                        max_df=max_df,\n",
        "                        min_df=min_df,\n",
        "                        max_features=max_features,\n",
        "                        norm='l2',\n",
        "                        sublinear_tf=True)\n",
        "\n",
        "features_train = tfidf.fit_transform(X_train).toarray()\n",
        "labels_train = y_train\n",
        "print(features_train.shape)\n",
        "\n",
        "features_test = tfidf.transform(X_test).toarray()\n",
        "labels_test = y_test\n",
        "print(features_test.shape)"
      ]
    },
    {
      "cell_type": "code",
      "execution_count": null,
      "metadata": {
        "colab": {
          "base_uri": "https://localhost:8080/"
        },
        "id": "gNZsPWKptRs6",
        "outputId": "dcea2245-e9a2-44e6-b0c5-2a4e022229af"
      },
      "outputs": [
        {
          "name": "stdout",
          "output_type": "stream",
          "text": [
            "# 'business' category:\n",
            "  . Most correlated unigrams:\n",
            ". firm\n",
            ". economic\n",
            ". economy\n",
            ". growth\n",
            ". bank\n",
            "  . Most correlated bigrams:\n",
            ". mr blair\n",
            ". year old\n",
            "\n",
            "# 'entertainment' category:\n",
            "  . Most correlated unigrams:\n",
            ". music\n",
            ". best\n",
            ". star\n",
            ". award\n",
            ". film\n",
            "  . Most correlated bigrams:\n",
            ". mr blair\n",
            ". prime minister\n",
            "\n",
            "# 'politics' category:\n",
            "  . Most correlated unigrams:\n",
            ". minister\n",
            ". blair\n",
            ". election\n",
            ". party\n",
            ". labour\n",
            "  . Most correlated bigrams:\n",
            ". prime minister\n",
            ". mr blair\n",
            "\n",
            "# 'sport' category:\n",
            "  . Most correlated unigrams:\n",
            ". club\n",
            ". side\n",
            ". team\n",
            ". match\n",
            ". cup\n",
            "  . Most correlated bigrams:\n",
            ". say mr\n",
            ". year old\n",
            "\n",
            "# 'tech' category:\n",
            "  . Most correlated unigrams:\n",
            ". digital\n",
            ". computer\n",
            ". technology\n",
            ". software\n",
            ". users\n",
            "  . Most correlated bigrams:\n",
            ". year old\n",
            ". say mr\n",
            "\n"
          ]
        }
      ],
      "source": [
        "from sklearn.feature_selection import chi2\n",
        "import numpy as np\n",
        "\n",
        "for Product, category_id in sorted(category_codes.items()):\n",
        "    features_chi2 = chi2(features_train, labels_train == category_id)\n",
        "    indices = np.argsort(features_chi2[0])\n",
        "    feature_names = np.array(tfidf.get_feature_names_out())[indices]\n",
        "    unigrams = [v for v in feature_names if len(v.split(' ')) == 1]\n",
        "    bigrams = [v for v in feature_names if len(v.split(' ')) == 2]\n",
        "    print(\"# '{}' category:\".format(Product))\n",
        "    print(\"  . Most correlated unigrams:\\n. {}\".format('\\n. '.join(unigrams[-5:])))\n",
        "    print(\"  . Most correlated bigrams:\\n. {}\".format('\\n. '.join(bigrams[-2:])))\n",
        "    print(\"\")"
      ]
    },
    {
      "cell_type": "code",
      "execution_count": null,
      "metadata": {
        "colab": {
          "base_uri": "https://localhost:8080/"
        },
        "id": "n6n6N6jRtRwc",
        "outputId": "9a383ca6-efac-4951-9f86-c1651ddcf07f"
      },
      "outputs": [
        {
          "data": {
            "text/plain": [
              "['tell bbc', 'last year', 'prime minister', 'mr blair', 'year old', 'say mr']"
            ]
          },
          "execution_count": 122,
          "metadata": {},
          "output_type": "execute_result"
        }
      ],
      "source": [
        "bigrams"
      ]
    },
    {
      "cell_type": "code",
      "execution_count": null,
      "metadata": {
        "colab": {
          "background_save": true
        },
        "id": "MB0Gi6avuBvy"
      },
      "outputs": [],
      "source": [
        "# X_train\n",
        "with open('X_train.pickle', 'wb') as output:\n",
        "    pickle.dump(X_train, output)\n",
        "\n",
        "# X_test\n",
        "with open('X_test.pickle', 'wb') as output:\n",
        "    pickle.dump(X_test, output)\n",
        "\n",
        "# y_train\n",
        "with open('y_train.pickle', 'wb') as output:\n",
        "    pickle.dump(y_train, output)\n",
        "\n",
        "# y_test\n",
        "with open('y_test.pickle', 'wb') as output:\n",
        "    pickle.dump(y_test, output)\n",
        "\n",
        "# df\n",
        "with open('df.pickle', 'wb') as output:\n",
        "    pickle.dump(df, output)\n",
        "\n",
        "# features_train\n",
        "with open('features_train.pickle', 'wb') as output:\n",
        "    pickle.dump(features_train, output)\n",
        "\n",
        "# labels_train\n",
        "with open('labels_train.pickle', 'wb') as output:\n",
        "    pickle.dump(labels_train, output)\n",
        "\n",
        "# features_test\n",
        "with open('features_test.pickle', 'wb') as output:\n",
        "    pickle.dump(features_test, output)\n",
        "\n",
        "# labels_test\n",
        "with open('labels_test.pickle', 'wb') as output:\n",
        "    pickle.dump(labels_test, output)\n",
        "\n",
        "# TF-IDF object\n",
        "with open('tfidf.pickle', 'wb') as output:\n",
        "    pickle.dump(tfidf, output)"
      ]
    },
    {
      "cell_type": "code",
      "execution_count": null,
      "metadata": {
        "id": "0-HKogd8xXff"
      },
      "outputs": [],
      "source": [
        "from google.colab import drive\n",
        "import os\n",
        "\n",
        "# # Mount Google Drive\n",
        "# drive.mount('/content/drive')\n",
        "\n",
        "# Define the directory path\n",
        "pickle_directory = '/content/drive/My Drive/Pickles'\n",
        "\n",
        "# Create the directory if it does not exist\n",
        "if not os.path.exists(pickle_directory):\n",
        "    os.makedirs(pickle_directory)\n",
        "\n",
        "# Now save the pickle files into the \"Pickle\" directory\n",
        "pickle_files = {\n",
        "    'X_train.pickle': X_train,\n",
        "    'X_test.pickle': X_test,\n",
        "    'y_train.pickle': y_train,\n",
        "    'y_test.pickle': y_test,\n",
        "    'df.pickle': df,\n",
        "    'features_train.pickle': features_train,\n",
        "    'labels_train.pickle': labels_train,\n",
        "    'features_test.pickle': features_test,\n",
        "    'labels_test.pickle': labels_test,\n",
        "    'tfidf.pickle': tfidf\n",
        "}\n",
        "\n",
        "for filename, data in pickle_files.items():\n",
        "    with open(os.path.join(pickle_directory, filename), 'wb') as output:\n",
        "        pickle.dump(data, output)\n"
      ]
    }
  ],
  "metadata": {
    "colab": {
      "provenance": []
    },
    "kernelspec": {
      "display_name": "Python 3",
      "name": "python3"
    },
    "language_info": {
      "name": "python"
    }
  },
  "nbformat": 4,
  "nbformat_minor": 0
}